{
 "cells": [
  {
   "cell_type": "code",
   "execution_count": 1,
   "metadata": {},
   "outputs": [],
   "source": [
    "# import libraries\n",
    "import os\n",
    "import numpy as np\n",
    "import pandas as pd\n",
    "import matplotlib.pyplot as plt\n",
    "\n",
    "import statsmodels.api as sm\n",
    "import seaborn as sbn\n",
    "\n",
    "setlen=lambda x:len(set(x))\n",
    "def chgdir(dirname):\n",
    "    \"\"\"This wrapper creates a directory, if not already present, and then shifts code to that working directory.\"\"\"\n",
    "    if os.path.isdir(dirname):\n",
    "        os.chdir(dirname)\n",
    "        print('Changing directory to '+dirname)\n",
    "    else:\n",
    "        print('Directory '+dirname+' not found.\\nCreating new directory.\\nChanging to new directory.')\n",
    "        os.mkdir(dirname)\n",
    "        os.chdir(dirname)\n",
    "\n",
    "cwd=os.getcwd()\n",
    "cwd_input_matrices=os.path.join(cwd,'input_matrices')\n",
    "cwd_genelists=os.path.join(cwd_input_matrices,'GeneLists')\n",
    "cwd_res=os.path.join(cwd,'Results')"
   ]
  },
  {
   "cell_type": "markdown",
   "metadata": {},
   "source": [
    "## Import Mutations burden (incidence) data from input_matrices"
   ]
  },
  {
   "cell_type": "code",
   "execution_count": 2,
   "metadata": {},
   "outputs": [],
   "source": [
    "# Uncomment and run this line to skip de-novo generation of in-silico data below and speed processing along.\n",
    "df_Incdstats=pd.read_csv(os.path.join(cwd_input_matrices,'df_Incdstats.csv'),sep='\\t',index_col='Hugo_Symbol')\n",
    "df_Incdstats=df_Incdstats.astype(float)\n",
    "\n",
    "#Import alternate gene nomenclature file from cbioportal: https://docs.cbioportal.org/3.-cbioportal-maintenance/updating-gene-and-gene_alias-tables\n",
    "#Homo_sapien.gene_info.gz ftp://ftp.ncbi.nih.gov/gene/DATA/GENE_INFO/Mammalia/Homo_sapiens.gene_info.gz\n",
    "dfGeneNames=pd.read_csv(os.path.join(cwd_input_matrices,'Homo_sapiens_gene_info.txt'),sep='\\t')\n",
    "dfGeneNames=dfGeneNames.astype(str).applymap(lambda x:x.upper())\n",
    "dfGeneNames.Synonyms=[str(row).split('|') for row in dfGeneNames.Synonyms.values]\n",
    "listSynonyms=[elem for row in dfGeneNames.Synonyms.values for elem in row]\n",
    "def FindGeneName(igene):\n",
    "    # This function has already been applied on the input gene list. In that application, care was taken to match chromosomes before deciding that two genes are same. This function therefore does not filter any names already present in the input genome matrix dfC.\n",
    "    igene=igene.upper()\n",
    "    retgene=igene\n",
    "    if (igene in set(dfGeneNames.Symbol)) or (igene not in set(listSynonyms) or (igene in df_Incdstats.index.values)):\n",
    "        return retgene\n",
    "    else:\n",
    "        retgene=dfGeneNames[[igene in row for row in dfGeneNames.Synonyms]].Symbol.values[0]\n",
    "        return retgene\n",
    "\n",
    "dfCT=pd.read_csv(os.path.join(cwd_genelists,'Lists_CT1and2.txt'),sep='\\t') # Updated 2020 CGC,2 lists.\n",
    "CGClist=set([elem for elem in dfCT['Consensus_Tier1'] if elem is not np.nan])\n",
    "CGClist=[FindGeneName(igene) for igene in CGClist]\n",
    "\n",
    "def checkindices(l1):\n",
    "    \"\"\"Returns TRUE if all items present in dfIncdsort else returns a list of indices absent\"\"\"\n",
    "    flag=True\n",
    "    listfalse=[]\n",
    "    for item in l1:\n",
    "        flag=flag and (item in df_Incdstats.index)\n",
    "        if not (item in df_Incdstats.index):\n",
    "            listfalse=listfalse+[item]\n",
    "    return flag if flag else listfalse\n",
    "\n",
    "for igene in checkindices(CGClist):\n",
    "    CGClist.remove(igene)\n",
    "\n",
    "# define a list of all CGC genes and aliases\n",
    "CGCaliaslist=[]\n",
    "for igene in CGClist:\n",
    "    CGCaliaslist=CGCaliaslist+[igene]\n",
    "    if igene in dfGeneNames.Symbol.values:\n",
    "        CGCaliaslist=CGCaliaslist+dfGeneNames.Synonyms[dfGeneNames.Symbol==igene].values[0]\n",
    "CGCaliaslist=list(set(CGCaliaslist))"
   ]
  },
  {
   "cell_type": "markdown",
   "metadata": {},
   "source": [
    "## Import Pubs,grants data"
   ]
  },
  {
   "cell_type": "code",
   "execution_count": 3,
   "metadata": {},
   "outputs": [],
   "source": [
    "df_Incd_CGC=df_Incdstats.loc[CGClist].sort_values(by='Incidence',ascending=False)\n",
    "\n",
    "#  Input pubs and grants data\n",
    "df_pubs_grants=pd.read_excel(os.path.join(cwd_input_matrices,'NIH+PM_Data.xlsx'),index_col='Gene name')\n",
    "df_pubs_grants.index=[FindGeneName(idx) for idx in df_pubs_grants.index]\n",
    "\n",
    "df_pubs_grants.rename(columns={'Pubs[title]':'Publications (#)', 'Pubs[title/abstract]':'Pubs[tiab]','Number of Grants[title/abstract]':'Grants (#)', 'Award Amount[title/abstract]':'Grants ($)'},inplace=True)"
   ]
  },
  {
   "cell_type": "code",
   "execution_count": 4,
   "metadata": {
    "scrolled": false
   },
   "outputs": [
    {
     "data": {
      "text/plain": [
       "['CASC5', 'WHSC1L1', 'MKL1', 'C2ORF44', 'FAM46C']"
      ]
     },
     "execution_count": 4,
     "metadata": {},
     "output_type": "execute_result"
    }
   ],
   "source": [
    "list_CGC_notPubs=[idx for idx in df_Incd_CGC.index if idx not in df_pubs_grants.index]\n",
    "list_CGC_notPubs"
   ]
  },
  {
   "cell_type": "code",
   "execution_count": 5,
   "metadata": {},
   "outputs": [
    {
     "data": {
      "text/plain": [
       "['KNL1', 'MRTFA', 'NSD3', 'TENT5C', 'TRA', 'WDCP']"
      ]
     },
     "execution_count": 5,
     "metadata": {},
     "output_type": "execute_result"
    }
   ],
   "source": [
    "list_pubs_NotCGC=[idx for idx in df_pubs_grants.index if idx not in df_Incd_CGC.index]\n",
    "list_pubs_NotCGC"
   ]
  },
  {
   "cell_type": "code",
   "execution_count": 6,
   "metadata": {},
   "outputs": [],
   "source": [
    "dropnagenes=list_pubs_NotCGC+list_CGC_notPubs\n",
    "df_AllData=pd.concat([df_Incd_CGC,df_pubs_grants],axis='columns').drop(index=dropnagenes)"
   ]
  },
  {
   "cell_type": "code",
   "execution_count": 7,
   "metadata": {},
   "outputs": [],
   "source": [
    "# Update global fonts for matplotlib\n",
    "font = {'family' : 'Arial',\n",
    "        'weight' : 'normal',\n",
    "        'size'   : 25}\n",
    "plt.rc('font', **font)\n",
    "col_dic={'Grants (#)':'tab:green','Grants ($)':'k','Publications (#)':'teal','Pubs[tiab]':'tab:brown'}"
   ]
  },
  {
   "cell_type": "markdown",
   "metadata": {},
   "source": [
    "## Supplementary Tables"
   ]
  },
  {
   "cell_type": "code",
   "execution_count": 8,
   "metadata": {},
   "outputs": [],
   "source": [
    "# Output Table S1\n",
    "df_AllData[['Incidence','Synonyms']].to_excel(os.path.join(cwd_res,'Tables','Table_S1_CGC_Incidence.xlsx'))"
   ]
  },
  {
   "cell_type": "code",
   "execution_count": 9,
   "metadata": {},
   "outputs": [],
   "source": [
    "# Output Table S2\n",
    "df_AllData[['Publications (#)','Pubs[tiab]','Synonyms']].to_excel(os.path.join(cwd_res,'Tables','Table_S2_CGC_Pubs.xlsx'))"
   ]
  },
  {
   "cell_type": "code",
   "execution_count": 10,
   "metadata": {},
   "outputs": [],
   "source": [
    "# Output Table S3\n",
    "df_AllData[['Grants ($)','Synonyms']].to_excel(os.path.join(cwd_res,'Tables','Table_S3_CGC_Grants.xlsx'))"
   ]
  },
  {
   "cell_type": "code",
   "execution_count": 11,
   "metadata": {},
   "outputs": [],
   "source": [
    "df_AllData.to_excel(os.path.join(cwd_res,'Tables','AllData_CGC.xlsx'))"
   ]
  },
  {
   "cell_type": "markdown",
   "metadata": {},
   "source": [
    "# Supplementary Figures"
   ]
  },
  {
   "cell_type": "markdown",
   "metadata": {},
   "source": [
    "## Scatter plots"
   ]
  },
  {
   "cell_type": "code",
   "execution_count": 12,
   "metadata": {},
   "outputs": [],
   "source": [
    "#xy corr plot\n",
    "ylist=['Grants ($)','Grants (#)','Publications (#)']\n",
    "xlabel1='Incidence'\n",
    "col_dic={'Grants (#)':'tab:green','Grants ($)':'k','Publications (#)':'teal','Pubs[tiab]':'tab:brown'}\n",
    "xdat=df_AllData[xlabel1].sort_values(ascending=False)\n",
    "for il in range(len(ylist)):\n",
    "    ylabel1=ylist[il]\n",
    "    ydat=df_AllData[ylabel1].sort_values(ascending=False)\n",
    "\n",
    "    overlapindex=[idx for idx in xdat.index if idx in ydat.index]\n",
    "\n",
    "    xvals=xdat.loc[overlapindex].values\n",
    "    yvals=ydat.loc[overlapindex].values\n",
    "    Xinp=sm.add_constant(xvals)\n",
    "    Yinp=yvals\n",
    "    model1=sm.OLS(Yinp,Xinp)\n",
    "    results1=model1.fit()\n",
    "\n",
    "    yvals_predicted=results1.predict(Xinp)\n",
    "    plt.figure(figsize=(5,5))\n",
    "    df_plt=pd.concat([xdat,ydat],axis='columns')\n",
    "    sbn.scatterplot(x=xlabel1,y=ylabel1,data=df_plt,color=col_dic[ylabel1])\n",
    "    plt.title('m='+str(f'{results1.params[1]:.1e}')+' R='+str(round(np.sqrt(results1.rsquared),2))+' p='+str(f'{results1.pvalues[0]:.1e}'),size=12)\n",
    "    plt.xlabel(xlabel1)\n",
    "    plt.xscale('log')\n",
    "    plt.yscale('log')\n",
    "    fname='Panel1_' if ylabel1 == 'Grants (#)' else 'SupplementaryFigure_' \n",
    "    fname=fname+xlabel1+'_vs_'+ylabel1\n",
    "    plt.plot(xvals,yvals_predicted,color='grey')\n",
    "    plt.savefig(os.path.join(cwd_res,fname+'.png'),bbox_inches='tight')\n",
    "    plt.close()\n",
    "#     plt.show()"
   ]
  },
  {
   "cell_type": "markdown",
   "metadata": {},
   "source": [
    "## Scatter plots with top 10 genes dropped"
   ]
  },
  {
   "cell_type": "code",
   "execution_count": 13,
   "metadata": {},
   "outputs": [
    {
     "data": {
      "image/png": "[encoded data removed]",
      "text/plain": [
       "<Figure size 360x360 with 1 Axes>"
      ]
     },
     "metadata": {
      "needs_background": "light"
     },
     "output_type": "display_data"
    },
    {
     "data": {
      "image/png": "[encoded data removed]",
      "text/plain": [
       "<Figure size 360x360 with 1 Axes>"
      ]
     },
     "metadata": {
      "needs_background": "light"
     },
     "output_type": "display_data"
    },
    {
     "data": {
      "image/png": "[encoded data removed]",
      "text/plain": [
       "<Figure size 360x360 with 1 Axes>"
      ]
     },
     "metadata": {
      "needs_background": "light"
     },
     "output_type": "display_data"
    }
   ],
   "source": [
    "#xy corr plot\n",
    "ylist=['Grants ($)','Grants (#)','Publications (#)']\n",
    "xlabel1='Incidence'\n",
    "col_dic={'Grants (#)':'tab:green','Grants ($)':'k','Publications (#)':'teal','Pubs[tiab]':'tab:brown'}\n",
    "xdat=df_AllData[xlabel1].sort_values(ascending=False)\n",
    "for il in range(len(ylist)):\n",
    "    ylabel1=ylist[il]\n",
    "    ydat=df_AllData[ylabel1].sort_values(ascending=False).iloc[11:]\n",
    "\n",
    "    overlapindex=[idx for idx in xdat.index if idx in ydat.index]\n",
    "\n",
    "    xvals=xdat.loc[overlapindex].values\n",
    "    yvals=ydat.loc[overlapindex].values\n",
    "    Xinp=sm.add_constant(xvals)\n",
    "    Yinp=yvals\n",
    "    model1=sm.OLS(Yinp,Xinp)\n",
    "    results1=model1.fit()\n",
    "\n",
    "    yvals_predicted=results1.predict(Xinp)\n",
    "    plt.figure(figsize=(5,5))\n",
    "    df_plt=pd.concat([xdat,ydat],axis='columns')\n",
    "    sbn.scatterplot(x=xlabel1,y=ylabel1,data=df_plt,color=col_dic[ylabel1])\n",
    "    plt.title('m='+str(f'{results1.params[1]:.1e}')+' R='+str(round(np.sqrt(results1.rsquared),2))+' p='+str(f'{results1.pvalues[0]:.1e}'),size=12)\n",
    "    plt.xlabel(xlabel1)\n",
    "    plt.xscale('log')\n",
    "    plt.yscale('log')\n",
    "    fname='Panel1_' if ylabel1 == 'Grants (#)' else 'SupplementaryFigure_' \n",
    "    fname=fname+xlabel1+'_vs_'+ylabel1\n",
    "    plt.plot(xvals,yvals_predicted,color='grey')\n",
    "#     plt.savefig(os.path.join(cwd_res,fname+'.png'),bbox_inches='tight')\n",
    "#     plt.close()\n",
    "    plt.show()"
   ]
  },
  {
   "cell_type": "markdown",
   "metadata": {},
   "source": [
    "## Supplementary Figure : bar plots"
   ]
  },
  {
   "cell_type": "code",
   "execution_count": 14,
   "metadata": {},
   "outputs": [],
   "source": [
    "# Grants ($) and Publications for the most incident genes.\n",
    "Ngenes=20\n",
    "CGClist_topepidem=df_Incd_CGC.iloc[:Ngenes].index.tolist()\n",
    "col_dic={'Grants (#)':'tab:green','Grants ($)':'k','Publications (#)':'teal','Pubs[tiab]':'tab:brown'}\n",
    "ylist=['Grants ($)','Publications (#)'] #'Grants (#)',\n",
    "\n",
    "for ylabelname in ylist:\n",
    "    fig,ax1=plt.subplots(figsize=[11,4])\n",
    "    df_pubs_grants.loc[CGClist_topepidem].plot.bar(y=ylabelname,color=col_dic[ylabelname],legend=False,ax=ax1)\n",
    "    plt.ylabel(ylabelname)\n",
    "    plt.yscale('log')\n",
    "    fname='SupplementaryFigure_Bar_'+ylabelname\n",
    "    plt.savefig(os.path.join(cwd_res,fname+'.png'),bbox_inches='tight')\n",
    "    plt.close()"
   ]
  },
  {
   "cell_type": "code",
   "execution_count": 15,
   "metadata": {},
   "outputs": [],
   "source": [
    "# Mutations Incidence bar plot for top genes by Grants ($) and publications\n",
    "ylist=['Grants ($)','Publications (#)'] #,'Grants (#)'\n",
    "col_dic={'Grants (#)':'tab:green','Grants ($)':'k','Publications (#)':'teal','Pubs[tiab]':'tab:brown'}\n",
    "# ylabelname=ylist[3]\n",
    "Ngenes=20\n",
    "for ylabelname in ylist:\n",
    "    fig,ax1=plt.subplots(figsize=[11,4])\n",
    "    df_barplt=df_AllData.sort_values(by=ylabelname,ascending=False).iloc[:Ngenes]\n",
    "    df_barplt.plot.bar(y='Incidence',color='k',legend=False,ax=ax1)\n",
    "    plt.ylabel('Mutation Burden (%)')\n",
    "    ax1.set_yscale('log')\n",
    "    fname='SupplementaryFigure_Bar_MutBurden_'+ylabelname\n",
    "    plt.savefig(os.path.join(cwd_res,fname+'.png'),bbox_inches='tight')\n",
    "    plt.close()"
   ]
  },
  {
   "cell_type": "markdown",
   "metadata": {},
   "source": [
    "# Supplementary Figure :Gene-Sublists"
   ]
  },
  {
   "cell_type": "code",
   "execution_count": 16,
   "metadata": {},
   "outputs": [
    {
     "name": "stdout",
     "output_type": "stream",
     "text": [
      "['RASSF10'] True ['CRKRS', 'CAMK1B', 'MAP3K14', 'PRKY', 'CCRK', 'SGK269', 'CABC1']\n",
      "# targets: 142 , # targets in CGC:  57\n",
      "Number of targets among top 20 funded genes: 10\n",
      "Number of targets among top 20 published genes: 12\n",
      "TF in drugs targets: ['EPAS1', 'MTF1', 'AR', 'ESR1', 'ESR2']\n",
      "TF in drugs targets and CT1: ['AR', 'EPAS1', 'ESR1']\n"
     ]
    },
    {
     "name": "stderr",
     "output_type": "stream",
     "text": [
      "C:\\Users\\GM\\AppData\\Local\\Temp/ipykernel_556/2944130990.py:73: UserWarning: Pandas doesn't allow columns to be created via a new attribute name - see https://pandas.pydata.org/pandas-docs/stable/indexing.html#attribute-access\n",
      "  df_JAX.Gene=ifulllist\n"
     ]
    }
   ],
   "source": [
    "### Import list of genes in RAS pathway, Kinome, Consensus 1 and 2\n",
    "\n",
    "dfGA=pd.read_csv(os.path.join(cwd_genelists,'List_Ras_Kinome.txt'),sep='\\t') # annotated lists\n",
    "kinomelist=set([elem for elem in dfGA['Kinome'] if elem is not np.nan])\n",
    "\n",
    "Raslist=set([elem for elem in dfGA['RAS_Pathway'] if elem is not np.nan])\n",
    "Raslist=[FindGeneName(igene) for igene in Raslist]\n",
    "kinomelist=[FindGeneName(igene) for igene in kinomelist]\n",
    "\n",
    "print(checkindices(Raslist),checkindices(CGClist),checkindices(kinomelist))\n",
    "for igene in checkindices(Raslist):\n",
    "    Raslist.remove(igene)\n",
    "for igene in checkindices(kinomelist):\n",
    "    kinomelist.remove(igene)\n",
    "    \n",
    "kinomelist_CGC=[igene for igene in kinomelist if igene in CGClist]\n",
    "Raslist_CGC=[igene for igene in Raslist if igene in CGClist]\n",
    "\n",
    "### Drug Targets list\n",
    "\n",
    "df_DT=pd.read_excel(os.path.join(cwd_genelists,'drug_list.xlsx'),dtype=str) # Curated List of drug targets\n",
    "\n",
    "# Process list of gene in both CGC list and are drug targets\n",
    "def ProcessStr(inpstr):\n",
    "    outstr=inpstr\n",
    "    \n",
    "    removelist=[str('\\xa0')] # strings which need to be removed\n",
    "    for istr in removelist:\n",
    "        if istr in inpstr:\n",
    "            outstr=inpstr.replace('\\xa0','')\n",
    "    \n",
    "    splitlist=['and',';',',',' '] # strings which are joiners\n",
    "    outstr=[outstr]\n",
    "    for isplitstr in splitlist:\n",
    "        outstr=[icol for istr in outstr for icol in istr.split(isplitstr)] # flattended split list\n",
    "    return outstr\n",
    "\n",
    "DTlist=list(set([icol for irow in df_DT['target_gene'].dropna().apply(ProcessStr).values for icol in irow]))\n",
    "DTlist_renamed=[FindGeneName(igene) for igene in DTlist]\n",
    "DTlist_CGC=[igene for igene in DTlist_renamed if igene in CGClist]\n",
    "\n",
    "print('# targets:',len(DTlist),', # targets in CGC: ',len(DTlist_CGC))\n",
    "\n",
    "# How many of the top 20 most funded are also drug targets?\n",
    "Ngenes=20\n",
    "list_mostFunded=df_AllData.sort_values(by='Grants ($)',ascending=False).iloc[:Ngenes].index.to_list()\n",
    "print('Number of targets among top 20 funded genes:',len([igene for igene in list_mostFunded if igene in DTlist_CGC]))\n",
    "list_mostPublished=df_AllData.sort_values(by='Publications (#)',ascending=False).iloc[:Ngenes].index.to_list()\n",
    "print('Number of targets among top 20 published genes:',len([igene for igene in list_mostPublished if igene in DTlist_CGC]))\n",
    "\n",
    "### Transcription factor\n",
    "\n",
    "df_TF=pd.read_excel(os.path.join(cwd_genelists,'Transcription_Factors_List_S1A_Cell2018_Lambertetal.xlsx'),dtype=str) # List of transcription factors from review:https://doi.org/10.1016/j.cell.2018.01.029\n",
    "\n",
    "df_TF=df_TF[df_TF['TF']=='Yes']\n",
    "TFlist=[FindGeneName(igene) for igene in df_TF.Name]\n",
    "TF_CGClist=list(set([igene for igene in TFlist if igene in CGClist]))\n",
    "\n",
    "print('TF in drugs targets:', [igene for igene in TFlist if igene in DTlist])\n",
    "\n",
    "print('TF in drugs targets and CT1:', [igene for igene in TF_CGClist if igene in DTlist_CGC])\n",
    "\n",
    "###  Jackson labs Transgenic Mice list\n",
    "\n",
    "df_JAX=pd.read_excel(os.path.join(cwd_genelists,'JAX_Mutant_Mouse_Resource_mtbwi.xlsx'),dtype=str)\n",
    "df_JAX.dropna(how='all',inplace=True)\n",
    "\n",
    "ifulllist=[]\n",
    "for iloc1 in df_JAX.index:\n",
    "    istr1=str(df_JAX.loc[iloc1,'Strain']).upper()\n",
    "    igenelist=[igene for igene in CGCaliaslist if igene in istr1]\n",
    "    ifulllist=ifulllist+[igenelist]\n",
    "df_JAX.Gene=ifulllist\n",
    "\n",
    "JAXlist=list(set([ig1 for iglist in df_JAX.Gene for ig1 in iglist]))\n",
    "\n",
    "\n",
    "JAXlist=[FindGeneName(istr) for istr in JAXlist]\n",
    "JAX_CGClist=list(set([istr for istr in JAXlist if istr in CGClist]))\n",
    "\n",
    "###  Jackson labs PDX list\n",
    "\n",
    "# print(''.join([igene+':MUT\\n' for igene in CGClist])) # This command is useful in obtaining a list of PDXes from the jackson lab website.\n",
    "\n",
    "\n",
    "df_PDX=pd.read_csv(os.path.join(cwd_genelists,'PDXCaseReport_CT1-2022-04-13.csv'),sep=',',comment='#') # obtained from:tumor.informatics.jax.org/mtbwi/pdxLikeMe.do\n",
    "\n",
    "dropcols=[icol for icol in df_PDX.columns if all(df_PDX[icol].isna())]\n",
    "\n",
    "df_PDX.drop(columns=dropcols,inplace=True)\n",
    "\n",
    "PDXlist=[icol.split(' ')[0] for icol in df_PDX.columns if 'X ' in df_PDX[icol].values]\n",
    "PDXlist=[FindGeneName(igene) for igene in PDXlist]\n",
    "PDX_CGClist=list(set([igene for igene in PDXlist if igene in CGClist]))\n",
    "\n",
    "#### Chromatin regulatory complex genes from Nat Genet. 2013 May 5; 45(6): 592–601. doi:10.1038/ng.2628.\n",
    "\n",
    "df_CRC=pd.read_excel(os.path.join(cwd_genelists,'BAF_Complex_ST4_CRCsubunits_Hargreaves20.xlsx'),dtype=str)\n",
    "\n",
    "CRC_list=list(set(df_CRC['BAF-complex-subunit'].values.tolist()+df_CRC['Aliases'].dropna().values.tolist()))\n",
    "CRClist=[FindGeneName(igene) for igene in CRC_list]\n",
    "CRC_CGClist=list(set([igene for igene in CRClist if igene in CGClist]))"
   ]
  },
  {
   "cell_type": "markdown",
   "metadata": {},
   "source": [
    "## Supplementary Figure C - gene sublists"
   ]
  },
  {
   "cell_type": "code",
   "execution_count": 17,
   "metadata": {},
   "outputs": [],
   "source": [
    "fun_remNAgenes=lambda l1:[igene for igene in l1 if igene not in dropnagenes]\n",
    "boxdic={'CGC':fun_remNAgenes(CGClist),'Drug Targets':fun_remNAgenes(DTlist_CGC),'Kinases':fun_remNAgenes(kinomelist_CGC),'TF':fun_remNAgenes(TF_CGClist),'RAS Pthwy':fun_remNAgenes(Raslist_CGC),'CRC':fun_remNAgenes(CRC_CGClist),'GEMM_JAX':fun_remNAgenes(JAX_CGClist),'PDX':fun_remNAgenes(PDX_CGClist)}"
   ]
  },
  {
   "cell_type": "code",
   "execution_count": 18,
   "metadata": {
    "scrolled": true
   },
   "outputs": [],
   "source": [
    "yllist=['Incidence','Grants ($)','Publications (#)']#,'Grants (#)', 'Pubs[tiab]'\n",
    "for ylabel in yllist:\n",
    "    allgenes=list(set([irow for icol in boxdic.values() for irow in icol]))\n",
    "    df_boxplt=pd.DataFrame(index=allgenes,columns=boxdic.keys())\n",
    "    for iglName in boxdic.keys():\n",
    "        for igene in boxdic[iglName]:\n",
    "            df_boxplt.loc[igene,iglName]=df_AllData.loc[igene,ylabel]\n",
    "    df_boxplt.fillna(np.nan,inplace=True)\n",
    "    fname='SupplementaryFigure_C_BoxWhsk_'+ylabel\n",
    "    df_boxplt.to_excel(os.path.join(cwd_res,'Tables',fname+'.xlsx'))\n",
    "    df_boxplt.boxplot(rot=90)\n",
    "    plt.xticks(ticks=range(1,len(df_boxplt.columns)+1),labels=[ilb+'('+str(len(boxdic[ilb]))+')' for ilb in df_boxplt.columns])\n",
    "    plt.ylabel(ylabel)\n",
    "    plt.yscale('log')\n",
    "    plt.yticks(rotation=90,va='center',size=30)\n",
    "    plt.savefig(os.path.join(cwd_res,fname+'.png'),bbox_inches='tight')\n",
    "    plt.close()"
   ]
  },
  {
   "cell_type": "markdown",
   "metadata": {},
   "source": [
    "## Supplementary Figure C - gene sublists statistical analyses"
   ]
  },
  {
   "cell_type": "code",
   "execution_count": 19,
   "metadata": {},
   "outputs": [],
   "source": [
    "from scipy.stats import mannwhitneyu as mwu"
   ]
  },
  {
   "cell_type": "code",
   "execution_count": 20,
   "metadata": {},
   "outputs": [
    {
     "name": "stdout",
     "output_type": "stream",
     "text": [
      "p-value that  Publications (#)  for  CGC  <  Drug Targets :1e-12\n",
      "p-value that  Grants ($)  for  CGC  <  Drug Targets :2e-14\n",
      "p-value that  Publications (#)  for  CGC  <  Kinases :8e-10\n",
      "p-value that  Grants ($)  for  CGC  <  Kinases :4e-10\n",
      "p-value that  Publications (#)  for  CGC  <  TF :2e-02\n",
      "p-value that  Grants ($)  for  CGC  <  TF :1e-01\n",
      "p-value that  Publications (#)  for  CGC  <  RAS Pthwy :6e-16\n",
      "p-value that  Grants ($)  for  CGC  <  RAS Pthwy :2e-15\n",
      "p-value that  Publications (#)  for  CGC  <  CRC :8e-01\n",
      "p-value that  Grants ($)  for  CGC  <  CRC :7e-01\n",
      "p-value that  Publications (#)  for  CGC  <  GEMM_JAX :2e-20\n",
      "p-value that  Grants ($)  for  CGC  <  GEMM_JAX :3e-21\n"
     ]
    }
   ],
   "source": [
    "x_label='CGC' # lesser distribution under tested hypothesis  \n",
    "# y_label='Kinases' # greater distribution under tested hypothesis\n",
    "for y_label in list(boxdic.keys())[1:-2]+['GEMM_JAX']:\n",
    "    # identify IDs in list1 that are not present in list2\n",
    "    x_label_list=boxdic[x_label]\n",
    "    y_label_list=boxdic[y_label]\n",
    "    if len(x_label_list)>len(y_label_list):\n",
    "        x_label_list=[igene for igene in x_label_list if igene not in y_label_list] # update x-label list - when x list is larger\n",
    "    else:\n",
    "        y_label_list=[igene for igene in y_label_list if igene not in x_label_list] # update y-label list - when y-list is larger\n",
    "        # test is neither appropriate not necessary when the two gene lists are nearly the same\n",
    "\n",
    "    dataset='Publications (#)' # The quantity being compared\n",
    "    x=df_AllData.loc[x_label_list,dataset].values\n",
    "    y=df_AllData.loc[y_label_list,dataset].values\n",
    "    res_mwu=mwu(x,y,alternative='less') # test for a random sample from x distribution being lesser than y distribution half the times samples. \n",
    "    print('p-value that ',dataset,' for ',x_label,' < ',y_label,f':{res_mwu.pvalue:.0e}')\n",
    "\n",
    "    dataset='Grants ($)' # The quantity being compared\n",
    "    x=df_AllData.loc[x_label_list,dataset].values\n",
    "    y=df_AllData.loc[y_label_list,dataset].values\n",
    "    res_mwu=mwu(x,y,alternative='less') # test for a random sample from x distribution being lesser than y distribution half the times samples. \n",
    "    print('p-value that ',dataset,' for ',x_label,' < ',y_label,f':{res_mwu.pvalue:.0e}')"
   ]
  },
  {
   "cell_type": "code",
   "execution_count": 21,
   "metadata": {},
   "outputs": [
    {
     "name": "stdout",
     "output_type": "stream",
     "text": [
      "p-value that  Publications (#)  for  TF  <  Kinases :5e-05\n",
      "p-value that  Grants ($)  for  TF  <  Kinases :9e-06\n"
     ]
    }
   ],
   "source": [
    "x_label='TF' # lesser distribution under tested hypothesis  \n",
    "y_label='Kinases' # greater distribution under tested hypothesis\n",
    "x_label_list=boxdic[x_label]\n",
    "y_label_list=boxdic[y_label]\n",
    "if len(x_label_list)>len(y_label_list):\n",
    "    x_label_list=[igene for igene in x_label_list if igene not in y_label_list] # update x-label list - when x list is larger\n",
    "else:\n",
    "    y_label_list=[igene for igene in y_label_list if igene not in x_label_list] # update y-label list - when y-list is larger\n",
    "    # test is neither appropriate not necessary when the two gene lists are nearly the same\n",
    "\n",
    "dataset='Publications (#)' # The quantity being compared\n",
    "x=df_AllData.loc[x_label_list,dataset].values\n",
    "y=df_AllData.loc[y_label_list,dataset].values\n",
    "res_mwu=mwu(x,y,alternative='less') # test for a random sample from x distribution being lesser than y distribution half the times samples. \n",
    "print('p-value that ',dataset,' for ',x_label,' < ',y_label,f':{res_mwu.pvalue:.0e}')\n",
    "\n",
    "dataset='Grants ($)' # The quantity being compared\n",
    "x=df_AllData.loc[x_label_list,dataset].values\n",
    "y=df_AllData.loc[y_label_list,dataset].values\n",
    "res_mwu=mwu(x,y,alternative='less') # test for a random sample from x distribution being lesser than y distribution half the times samples. \n",
    "print('p-value that ',dataset,' for ',x_label,' < ',y_label,f':{res_mwu.pvalue:.0e}')"
   ]
  },
  {
   "cell_type": "code",
   "execution_count": 22,
   "metadata": {},
   "outputs": [
    {
     "name": "stdout",
     "output_type": "stream",
     "text": [
      "p-value that  Publications (#)  for  CRC  <  CGC :2e-01\n",
      "p-value that  Grants ($)  for  CRC  <  CGC :3e-01\n"
     ]
    }
   ],
   "source": [
    "x_label='CRC' # lesser distribution under tested hypothesis  \n",
    "y_label='CGC' # greater distribution under tested hypothesis\n",
    "x_label_list=boxdic[x_label]\n",
    "y_label_list=boxdic[y_label]\n",
    "if len(x_label_list)>len(y_label_list):\n",
    "    x_label_list=[igene for igene in x_label_list if igene not in y_label_list] # update x-label list - when x list is larger\n",
    "else:\n",
    "    y_label_list=[igene for igene in y_label_list if igene not in x_label_list] # update y-label list - when y-list is larger\n",
    "    # test is neither appropriate not necessary when the two gene lists are nearly the same\n",
    "\n",
    "dataset='Publications (#)' # The quantity being compared\n",
    "x=df_AllData.loc[x_label_list,dataset].values\n",
    "y=df_AllData.loc[y_label_list,dataset].values\n",
    "res_mwu=mwu(x,y,alternative='less') # test for a random sample from x distribution being lesser than y distribution half the times samples. \n",
    "print('p-value that ',dataset,' for ',x_label,' < ',y_label,f':{res_mwu.pvalue:.0e}')\n",
    "\n",
    "dataset='Grants ($)' # The quantity being compared\n",
    "x=df_AllData.loc[x_label_list,dataset].values\n",
    "y=df_AllData.loc[y_label_list,dataset].values\n",
    "res_mwu=mwu(x,y,alternative='less') # test for a random sample from x distribution being lesser than y distribution half the times samples. \n",
    "print('p-value that ',dataset,' for ',x_label,' < ',y_label,f':{res_mwu.pvalue:.0e}')"
   ]
  },
  {
   "cell_type": "code",
   "execution_count": 23,
   "metadata": {},
   "outputs": [
    {
     "name": "stdout",
     "output_type": "stream",
     "text": [
      "p-value that  Publications (#)  for  PDX  <  GEMM_JAX :4e-17\n",
      "p-value that  Grants ($)  for  PDX  <  GEMM_JAX :2e-18\n"
     ]
    }
   ],
   "source": [
    "x_label='PDX' # lesser distribution under tested hypothesis  \n",
    "y_label='GEMM_JAX' # greater distribution under tested hypothesis\n",
    "x_label_list=boxdic[x_label]\n",
    "y_label_list=boxdic[y_label]\n",
    "if len(x_label_list)>len(y_label_list):\n",
    "    x_label_list=[igene for igene in x_label_list if igene not in y_label_list] # update x-label list - when x list is larger\n",
    "else:\n",
    "    y_label_list=[igene for igene in y_label_list if igene not in x_label_list] # update y-label list - when y-list is larger\n",
    "    # test is neither appropriate not necessary when the two gene lists are nearly the same\n",
    "\n",
    "dataset='Publications (#)' # The quantity being compared\n",
    "x=df_AllData.loc[x_label_list,dataset].values\n",
    "y=df_AllData.loc[y_label_list,dataset].values\n",
    "res_mwu=mwu(x,y,alternative='less') # test for a random sample from x distribution being lesser than y distribution half the times samples. \n",
    "print('p-value that ',dataset,' for ',x_label,' < ',y_label,f':{res_mwu.pvalue:.0e}')\n",
    "\n",
    "dataset='Grants ($)' # The quantity being compared\n",
    "x=df_AllData.loc[x_label_list,dataset].values\n",
    "y=df_AllData.loc[y_label_list,dataset].values\n",
    "res_mwu=mwu(x,y,alternative='less') # test for a random sample from x distribution being lesser than y distribution half the times samples. \n",
    "print('p-value that ',dataset,' for ',x_label,' < ',y_label,f':{res_mwu.pvalue:.0e}')"
   ]
  },
  {
   "cell_type": "markdown",
   "metadata": {},
   "source": [
    "# Supplementary Panels"
   ]
  },
  {
   "cell_type": "markdown",
   "metadata": {},
   "source": [
    "## Panel 1 is calculated alongside above scatter plots for supplementary figures"
   ]
  },
  {
   "cell_type": "markdown",
   "metadata": {},
   "source": [
    "## Panel 2: Correlation between NCI Grants (USD) and Mutation Burden"
   ]
  },
  {
   "cell_type": "code",
   "execution_count": 24,
   "metadata": {},
   "outputs": [
    {
     "name": "stdout",
     "output_type": "stream",
     "text": [
      "['CARS', 'FGFR1OP', 'H3F3A', 'H3F3B', 'HIST1H3B', 'HIST1H4I']\n"
     ]
    }
   ],
   "source": [
    "df_Pubmed_AACR=pd.read_excel(os.path.join(cwd_input_matrices,'controls','NCI_NIH+AACR_PM_Data.xlsx'),index_col='Gene name')\n",
    "\n",
    "print([idx for idx in df_Pubmed_AACR.index if idx!=FindGeneName(idx)])\n",
    "\n",
    "df_Pubmed_AACR.index=[FindGeneName(idx) for idx in df_Pubmed_AACR.index]"
   ]
  },
  {
   "cell_type": "code",
   "execution_count": 25,
   "metadata": {},
   "outputs": [],
   "source": [
    "col_dic['Award Amount[title/abstract]']='k'"
   ]
  },
  {
   "cell_type": "code",
   "execution_count": 26,
   "metadata": {},
   "outputs": [],
   "source": [
    "#xy corr plot\n",
    "ylabel1='Award Amount[title/abstract]'\n",
    "xlabel1='Incidence'\n",
    "xdat=df_AllData[xlabel1].sort_values(ascending=False)\n",
    "ydat=df_Pubmed_AACR[ylabel1].sort_values(ascending=False)\n",
    "\n",
    "overlapindex=[idx for idx in xdat.index if idx in ydat.index]\n",
    "\n",
    "xvals=xdat.loc[overlapindex].values\n",
    "yvals=ydat.loc[overlapindex].values\n",
    "Xinp=sm.add_constant(xvals)\n",
    "Yinp=yvals\n",
    "model1=sm.OLS(Yinp,Xinp)\n",
    "results1=model1.fit()\n",
    "\n",
    "yvals_predicted=results1.predict(Xinp)\n",
    "\n",
    "fig,ax1=plt.subplots()\n",
    "df_plt=pd.concat([xdat,ydat],axis='columns')\n",
    "sbn.scatterplot(ax=ax1,x=xlabel1,y=ylabel1,data=df_plt,color=col_dic[ylabel1])\n",
    "plt.title('m='+str(f'{results1.params[1]:.1e}')+' R='+str(round(np.sqrt(results1.rsquared),2))+' p='+str(f'{results1.pvalues[0]:.1e}'),size=12)\n",
    "\n",
    "plt.xlabel(xlabel1)\n",
    "plt.xscale('log')\n",
    "plt.yscale('log')\n",
    "rembcksl=lambda str1:str1.split('/')[0]+'_'+str1.split('/')[1]\n",
    "fname='Panel2_'+xlabel1+'_vs_'+rembcksl(ylabel1)\n",
    "plt.plot(xvals,yvals_predicted,color='grey')\n",
    "plt.savefig(os.path.join(cwd_res,fname+'.png'),bbox_inches='tight')\n",
    "plt.close()"
   ]
  },
  {
   "cell_type": "code",
   "execution_count": 27,
   "metadata": {},
   "outputs": [
    {
     "data": {
      "image/png": "[encoded data removed]",
      "text/plain": [
       "<Figure size 432x288 with 1 Axes>"
      ]
     },
     "metadata": {
      "needs_background": "light"
     },
     "output_type": "display_data"
    }
   ],
   "source": [
    "#xy corr plot\n",
    "ylabel1='Award Amount[title/abstract]'\n",
    "xlabel1='Incidence'\n",
    "xdat=df_AllData[xlabel1].sort_values(ascending=False)\n",
    "ydat=df_Pubmed_AACR[ylabel1].sort_values(ascending=False).iloc[11:]\n",
    "\n",
    "overlapindex=[idx for idx in xdat.index if idx in ydat.index]\n",
    "\n",
    "xvals=xdat.loc[overlapindex].values\n",
    "yvals=ydat.loc[overlapindex].values\n",
    "Xinp=sm.add_constant(xvals)\n",
    "Yinp=yvals\n",
    "model1=sm.OLS(Yinp,Xinp)\n",
    "results1=model1.fit()\n",
    "\n",
    "yvals_predicted=results1.predict(Xinp)\n",
    "\n",
    "fig,ax1=plt.subplots()\n",
    "df_plt=pd.concat([xdat,ydat],axis='columns')\n",
    "sbn.scatterplot(ax=ax1,x=xlabel1,y=ylabel1,data=df_plt,color=col_dic[ylabel1])\n",
    "plt.title('m='+str(f'{results1.params[1]:.1e}')+' R='+str(round(np.sqrt(results1.rsquared),2))+' p='+str(f'{results1.pvalues[0]:.1e}'),size=12)\n",
    "\n",
    "plt.xlabel(xlabel1)\n",
    "plt.xscale('log')\n",
    "plt.yscale('log')\n",
    "rembcksl=lambda str1:str1.split('/')[0]+'_'+str1.split('/')[1]\n",
    "fname='Panel2_'+xlabel1+'_vs_'+rembcksl(ylabel1)\n",
    "plt.plot(xvals,yvals_predicted,color='grey')\n",
    "# plt.savefig(os.path.join(cwd_res,fname+'.png'),bbox_inches='tight')\n",
    "plt.show()"
   ]
  },
  {
   "cell_type": "markdown",
   "metadata": {},
   "source": [
    "### Panel3,4: AACR journals (no cancer keyword) vs mutation burden"
   ]
  },
  {
   "cell_type": "code",
   "execution_count": 28,
   "metadata": {},
   "outputs": [],
   "source": [
    "col_dic['Pubs[title]']='teal'"
   ]
  },
  {
   "cell_type": "code",
   "execution_count": 29,
   "metadata": {
    "scrolled": true
   },
   "outputs": [],
   "source": [
    "#xy corr plot\n",
    "ylabel1='Pubs[title]'\n",
    "xlabel1='Incidence'\n",
    "xdat=df_AllData[xlabel1].sort_values(ascending=False)\n",
    "ydat=df_Pubmed_AACR[ylabel1].sort_values(ascending=False)\n",
    "\n",
    "overlapindex=[idx for idx in xdat.index if idx in ydat.index]\n",
    "\n",
    "xdat=xdat.loc[overlapindex]\n",
    "ydat=ydat.loc[overlapindex]\n",
    "xvals=xdat.values\n",
    "yvals=ydat.values\n",
    "\n",
    "Xinp=sm.add_constant(xvals)\n",
    "Yinp=yvals\n",
    "model1=sm.OLS(Yinp,Xinp)\n",
    "results1=model1.fit()\n",
    "\n",
    "yvals_predicted=results1.predict(Xinp)\n",
    "\n",
    "plt.figure(figsize=(5,5))\n",
    "df_plt=pd.concat([xdat,ydat],axis='columns')\n",
    "sbn.scatterplot(x=xlabel1,y=ylabel1,data=df_plt,color=col_dic[ylabel1])\n",
    "plt.title('m='+str(f'{results1.params[1]:.1e}')+' R='+str(round(np.sqrt(results1.rsquared),2))+' p='+str(f'{results1.pvalues[0]:.1e}'),size=12)\n",
    "plt.xlabel(xlabel1)\n",
    "plt.ylabel(ylabel1+'_AACR')\n",
    "plt.ylim([1,1500])\n",
    "plt.xscale('log')\n",
    "plt.yscale('log')\n",
    "fname='Panel3_'+xlabel1+'_vs_'+ylabel1+'_AACR'\n",
    "plt.plot(xvals,yvals_predicted,color='grey')\n",
    "plt.savefig(os.path.join(cwd_res,fname+'.png'),bbox_inches='tight')\n",
    "plt.close()\n",
    "\n",
    "# Plot residuals\n",
    "yresd=(yvals-yvals_predicted)\n",
    "plt.figure(figsize=(5,5))\n",
    "yresdprop=[(np.nan if yvals[i]==0 else yresd[i]/yvals[i]) for i in range(len(yresd))] #residue proportion\n",
    "plt.scatter(x=yvals, y=yresdprop,color='tab:blue') # proportional residue shows explicit better fitting of largest values drives the overall fit.\n",
    "plt.xlabel(ylabel1)\n",
    "plt.ylabel('Residual Proportions')\n",
    "plt.xscale('log')\n",
    "plt.yscale('log')\n",
    "fname='Panel4_ResidualProportions_AACR'\n",
    "plt.plot(yvals,[0]*len(yvals),color='grey')\n",
    "plt.savefig(os.path.join(cwd_res,fname+'.png'),bbox_inches='tight')\n",
    "plt.close()\n",
    "# Plot residuals\n",
    "plt.figure(figsize=(5,5))\n",
    "plt.scatter(x=yvals, y=yresd,color='tab:blue') # proportional residue shows explicit better fitting of largest values drives the overall fit.\n",
    "plt.xlabel(ylabel1)\n",
    "plt.ylabel('Pubs (#) Residuals')\n",
    "plt.xscale('log')\n",
    "# plt.yscale('log')\n",
    "fname='Panel4_Residuals_AACR'\n",
    "plt.plot(yvals,[0]*len(yvals),color='grey')\n",
    "plt.savefig(os.path.join(cwd_res,fname+'.png'),bbox_inches='tight')\n",
    "plt.close()"
   ]
  },
  {
   "cell_type": "code",
   "execution_count": 30,
   "metadata": {},
   "outputs": [
    {
     "data": {
      "image/png": "[encoded data removed]",
      "text/plain": [
       "<Figure size 360x360 with 1 Axes>"
      ]
     },
     "metadata": {
      "needs_background": "light"
     },
     "output_type": "display_data"
    }
   ],
   "source": [
    "xdat=df_AllData[xlabel1].sort_values(ascending=False)\n",
    "ydat=df_Pubmed_AACR[ylabel1].sort_values(ascending=False).iloc[11:]\n",
    "\n",
    "overlapindex=[idx for idx in xdat.index if idx in ydat.index]\n",
    "\n",
    "xdat=xdat.loc[overlapindex]\n",
    "ydat=ydat.loc[overlapindex]\n",
    "xvals=xdat.values\n",
    "yvals=ydat.values\n",
    "\n",
    "Xinp=sm.add_constant(xvals)\n",
    "Yinp=yvals\n",
    "model1=sm.OLS(Yinp,Xinp)\n",
    "results1=model1.fit()\n",
    "\n",
    "yvals_predicted=results1.predict(Xinp)\n",
    "\n",
    "plt.figure(figsize=(5,5))\n",
    "df_plt=pd.concat([xdat,ydat],axis='columns')\n",
    "sbn.scatterplot(x=xlabel1,y=ylabel1,data=df_plt,color=col_dic[ylabel1])\n",
    "plt.title('m='+str(f'{results1.params[1]:.1e}')+' R='+str(round(np.sqrt(results1.rsquared),2))+' p='+str(f'{results1.pvalues[0]:.1e}'),size=12)\n",
    "plt.xlabel(xlabel1)\n",
    "plt.ylabel(ylabel1+'_AACR')\n",
    "plt.ylim([1,1500])\n",
    "plt.xscale('log')\n",
    "plt.yscale('log')\n",
    "fname='Panel3_'+xlabel1+'_vs_'+ylabel1+'_AACR'\n",
    "plt.plot(xvals,yvals_predicted,color='grey')\n",
    "# plt.savefig(os.path.join(cwd_res,fname+'.png'),bbox_inches='tight')\n",
    "plt.show()"
   ]
  },
  {
   "cell_type": "code",
   "execution_count": 31,
   "metadata": {
    "scrolled": false
   },
   "outputs": [
    {
     "data": {
      "text/plain": [
       "('Percent of CGC Genes with <=2 pubs at AACR:', 49.0)"
      ]
     },
     "execution_count": 31,
     "metadata": {},
     "output_type": "execute_result"
    }
   ],
   "source": [
    "'Percent of CGC Genes with <=2 pubs at AACR:',round((sum(df_Pubmed_AACR['Pubs[title]']<=2))/len(CGClist),2)*100"
   ]
  },
  {
   "cell_type": "markdown",
   "metadata": {},
   "source": [
    "## Panel 5 (right) Compare the Pubmed counts with that from Pubmed within AACR journals only "
   ]
  },
  {
   "cell_type": "code",
   "execution_count": 32,
   "metadata": {},
   "outputs": [
    {
     "name": "stdout",
     "output_type": "stream",
     "text": [
      "['CARS', 'FGFR1OP', 'H3F3A', 'H3F3B', 'HIST1H3B', 'HIST1H4I']\n"
     ]
    }
   ],
   "source": [
    "df_Pubmed_AACR=pd.read_excel(os.path.join(cwd_input_matrices,'controls','NCI_NIH+AACR_PM_Data.xlsx'),index_col='Gene name')\n",
    "\n",
    "print([idx for idx in df_Pubmed_AACR.index if idx!=FindGeneName(idx)])\n",
    "\n",
    "df_Pubmed_AACR.index=[FindGeneName(idx) for idx in df_Pubmed_AACR.index]"
   ]
  },
  {
   "cell_type": "code",
   "execution_count": 33,
   "metadata": {
    "scrolled": true
   },
   "outputs": [],
   "source": [
    "xlabel='Publications (#)'\n",
    "ylabel='Pubs[title]'\n",
    "\n",
    "xdat=df_AllData[xlabel].sort_values(ascending=False)\n",
    "ydat=df_Pubmed_AACR[ylabel]\n",
    "\n",
    "overlapindex=[idx for idx in xdat.index if (idx in ydat.index) and (xdat[idx]>0) and (ydat[idx]>0)]\n",
    "\n",
    "ydat=ydat[overlapindex]\n",
    "xdat=xdat[overlapindex]\n",
    "\n",
    "fig, ax1 = plt.subplots()\n",
    "df_plt=pd.concat([xdat,ydat],axis='columns')\n",
    "xlabel1=xlabel\n",
    "ylabel1=ylabel\n",
    "df_plt.columns=[xlabel1,ylabel1]\n",
    "sbn.scatterplot(ax=ax1,x=xlabel1,y=ylabel1,data=df_plt,color=col_dic[xlabel1])\n",
    "ax1.set_yscale('log')\n",
    "ax1.set_xscale('log')\n",
    "ax1.set_ylim(min(ydat[ydat>0]),max(ydat))\n",
    "\n",
    "xvals=xdat.loc[overlapindex].values\n",
    "yvals=ydat.loc[overlapindex].values\n",
    "Xinp=sm.add_constant(xvals)\n",
    "Yinp=yvals\n",
    "model1=sm.OLS(Yinp,Xinp)\n",
    "results1=model1.fit()\n",
    "\n",
    "yvals_predicted=results1.predict(Xinp)\n",
    "plt.plot(xvals,yvals_predicted,color='grey')\n",
    "\n",
    "plt.title('m='+str(f'{results1.params[1]:.1e}')+' R='+str(round(np.sqrt(results1.rsquared),2))+' p='+str(f'{results1.pvalues[0]:.1e}'),size=12)\n",
    "fname='Panel5_Pubs_AACR_'+xlabel+'_'+ylabel\n",
    "plt.savefig(os.path.join(cwd_res,fname+'.png'),bbox_inches='tight')\n",
    "plt.close()"
   ]
  },
  {
   "cell_type": "raw",
   "metadata": {},
   "source": [
    "# Uncomment for an extra plot comparing title and abstract searches in AACR and PubMed\n",
    "xlabel='Pubs[tiab]'\n",
    "ylabel='Pubs[title/abstract]'\n",
    "\n",
    "xdat=df_AllData[xlabel].sort_values(ascending=False)\n",
    "ydat=df_Pubmed_AACR[ylabel]\n",
    "\n",
    "overlapindex=[idx for idx in xdat.index if (idx in ydat.index) and (xdat[idx]>0) and (ydat[idx]>0)]\n",
    "\n",
    "ydat=ydat[overlapindex]\n",
    "xdat=xdat[overlapindex]\n",
    "\n",
    "fig, ax1 = plt.subplots()\n",
    "df_plt=pd.concat([xdat,ydat],axis='columns')\n",
    "xlabel1=xlabel\n",
    "ylabel1=ylabel\n",
    "df_plt.columns=[xlabel1,ylabel1]\n",
    "sbn.scatterplot(ax=ax1,x=xlabel1,y=ylabel1,data=df_plt,color=col_dic[xlabel1])\n",
    "ax1.set_yscale('log')\n",
    "ax1.set_xscale('log')\n",
    "ax1.set_ylim(min(ydat[ydat>0]),max(ydat))\n",
    "xvals=xdat.loc[overlapindex].values\n",
    "yvals=ydat.loc[overlapindex].values\n",
    "Xinp=sm.add_constant(xvals)\n",
    "Yinp=yvals\n",
    "model1=sm.OLS(Yinp,Xinp)\n",
    "results1=model1.fit()\n",
    "\n",
    "yvals_predicted=results1.predict(Xinp)\n",
    "plt.plot(xvals,yvals_predicted,color='grey')\n",
    "\n",
    "plt.title('m='+str(f'{results1.params[1]:.1e}')+' R='+str(round(np.sqrt(results1.rsquared),2))+' p='+str(f'{results1.pvalues[0]:.1e}'),size=12)\n",
    "fname='Panel_Pubs_AACR_'+xlabel+'_'+ylabel.split('/')[0] # '/' cannot be in a windows file name\n",
    "plt.savefig(os.path.join(cwd_res,fname+'.png'),bbox_inches='tight')\n",
    "plt.close()"
   ]
  },
  {
   "cell_type": "markdown",
   "metadata": {},
   "source": [
    "## Panel 5 (left) Compare the total grants data with that from NCI grants alone (controlling for non-cancer related grants in the same genes)"
   ]
  },
  {
   "cell_type": "code",
   "execution_count": 34,
   "metadata": {},
   "outputs": [],
   "source": [
    "df_Grants_NCI=pd.read_excel(os.path.join(cwd_input_matrices,'controls','NCI_NIH+AACR_PM_Data.xlsx'),index_col='Gene name') \n",
    "df_Grants_NCI.index=[FindGeneName(idx) for idx in df_Grants_NCI.index]"
   ]
  },
  {
   "cell_type": "raw",
   "metadata": {},
   "source": [
    "# COMMENTED: Extra plot comparing number of grants at NCI vs Pubmend\n",
    "xlabel='Grants (#)'\n",
    "ylabel='Number of Grants[title/abstract]'\n",
    "\n",
    "xdat=df_AllData[xlabel].sort_values(ascending=False)\n",
    "ydat=df_Grants_NCI[ylabel]\n",
    "\n",
    "fig, ax1 = plt.subplots()\n",
    "df_plt=pd.concat([xdat,ydat],axis='columns')\n",
    "sbn.scatterplot(ax=ax1,x=xlabel,y=ylabel,data=df_plt,color='k')\n",
    "ax1.set_yscale('log')\n",
    "ax1.set_xscale('log')\n",
    "ax1.set_ylim(min(ydat[ydat>0]),max(ydat))\n",
    "\n",
    "overlapindex=[idx for idx in xdat.index if idx in ydat.index]\n",
    "\n",
    "xvals=xdat.loc[overlapindex].values\n",
    "yvals=ydat.loc[overlapindex].values\n",
    "Xinp=sm.add_constant(xvals)\n",
    "Yinp=yvals\n",
    "model1=sm.OLS(Yinp,Xinp)\n",
    "results1=model1.fit()\n",
    "\n",
    "yvals_predicted=results1.predict(Xinp)\n",
    "plt.plot(xvals,yvals_predicted,color='grey')\n",
    "plt.title('m='+str(f'{results1.params[1]:.1e}')+' R='+str(round(np.sqrt(results1.rsquared),2))+' p='+str(f'{results1.pvalues[0]:.1e}'),size=12)\n",
    "fname='Panel5_'+xlabel+'_vs_'+ylabel.split('/')[0]+ylabel.split('/')[1]\n",
    "plt.savefig(os.path.join(cwd_res,fname+'.png'),bbox_inches='tight')\n",
    "plt.close()"
   ]
  },
  {
   "cell_type": "code",
   "execution_count": 35,
   "metadata": {},
   "outputs": [],
   "source": [
    "xlabel='Grants ($)'\n",
    "ylabel='Award Amount[title/abstract]'\n",
    "\n",
    "xdat=df_AllData[xlabel].sort_values(ascending=False)\n",
    "ydat=df_Grants_NCI[ylabel]\n",
    "\n",
    "fig, ax1 = plt.subplots()\n",
    "df_plt=pd.concat([xdat,ydat],axis='columns')\n",
    "sbn.scatterplot(ax=ax1,x=xlabel,y=ylabel,data=df_plt,color='k')\n",
    "ax1.set_yscale('log')\n",
    "ax1.set_xscale('log')\n",
    "ax1.set_ylim(min(ydat[ydat>0]),max(ydat))\n",
    "\n",
    "overlapindex=[idx for idx in xdat.index if idx in ydat.index]\n",
    "\n",
    "xvals=xdat.loc[overlapindex].values\n",
    "yvals=ydat.loc[overlapindex].values\n",
    "Xinp=sm.add_constant(xvals)\n",
    "Yinp=yvals\n",
    "model1=sm.OLS(Yinp,Xinp)\n",
    "results1=model1.fit()\n",
    "\n",
    "yvals_predicted=results1.predict(Xinp)\n",
    "plt.plot(xvals,yvals_predicted,color='grey')\n",
    "plt.title('m='+str(f'{results1.params[1]:.1e}')+' R='+str(round(np.sqrt(results1.rsquared),2))+' p='+str(f'{results1.pvalues[0]:.1e}'),size=12) \n",
    "fname='Panel5_'+xlabel+'_vs_'+ylabel.split('/')[0]+ylabel.split('/')[1]\n",
    "plt.savefig(os.path.join(cwd_res,fname+'.png'),bbox_inches='tight')\n",
    "plt.close()"
   ]
  },
  {
   "cell_type": "markdown",
   "metadata": {},
   "source": [
    "## Panel 6 Compare grants with title only searches vs title+abstract."
   ]
  },
  {
   "cell_type": "code",
   "execution_count": 36,
   "metadata": {},
   "outputs": [],
   "source": [
    "#xy corr plot\n",
    "ylabel='Award Amount[title]'\n",
    "xlabel='Grants ($)'\n",
    "\n",
    "xdat=df_AllData[xlabel][df_AllData[xlabel]>0].sort_values(ascending=False)\n",
    "\n",
    "ydat=df_AllData[ylabel][df_AllData[ylabel]>0].sort_values(ascending=False)\n",
    "\n",
    "overlapindex=[idx for idx in xdat.index if idx in ydat.index]\n",
    "\n",
    "xvals=xdat.loc[overlapindex].values\n",
    "yvals=ydat.loc[overlapindex].values\n",
    "Xinp=sm.add_constant(xvals)\n",
    "Yinp=yvals\n",
    "model1=sm.OLS(Yinp,Xinp)\n",
    "results1=model1.fit()\n",
    "\n",
    "\n",
    "\n",
    "yvals_predicted=results1.predict(Xinp)\n",
    "df_plt=pd.concat([xdat,ydat],axis='columns')\n",
    "sbn.scatterplot(x=xlabel,y=ylabel,data=df_plt,color='k')\n",
    "plt.title('m='+str(f'{results1.params[1]:.1e}')+' R='+str(round(np.sqrt(results1.rsquared),2))+' p='+str(f'{results1.pvalues[0]:.1e}'),size=12)\n",
    "plt.xlabel(xlabel)\n",
    "plt.ylabel(ylabel+'_TitleOnly')\n",
    "plt.xscale('log')\n",
    "plt.yscale('log')\n",
    "fname='Panel6_'+xlabel+'_vs_'+ylabel\n",
    "plt.plot(xvals,yvals_predicted,color='grey')\n",
    "plt.savefig(os.path.join(cwd_res,fname+'.png'),bbox_inches='tight')\n",
    "plt.close()"
   ]
  },
  {
   "cell_type": "markdown",
   "metadata": {},
   "source": [
    "### Panel 6 right Compare pubs with title only searches vs title+abstract."
   ]
  },
  {
   "cell_type": "code",
   "execution_count": 37,
   "metadata": {},
   "outputs": [],
   "source": [
    "#xy corr plot\n",
    "ylabel='Pubs[tiab]'\n",
    "xlabel='Publications (#)'\n",
    "\n",
    "xdat=df_AllData[xlabel][df_AllData[xlabel]>0].sort_values(ascending=False)\n",
    "\n",
    "ydat=df_AllData[ylabel][df_AllData[ylabel]>0].sort_values(ascending=False)\n",
    "\n",
    "overlapindex=[idx for idx in xdat.index if idx in ydat.index]\n",
    "\n",
    "xvals=xdat.loc[overlapindex].values\n",
    "yvals=ydat.loc[overlapindex].values\n",
    "Xinp=sm.add_constant(xvals)\n",
    "Yinp=yvals\n",
    "model1=sm.OLS(Yinp,Xinp)\n",
    "results1=model1.fit()\n",
    "\n",
    "\n",
    "\n",
    "yvals_predicted=results1.predict(Xinp)\n",
    "df_plt=pd.concat([xdat,ydat],axis='columns')\n",
    "sbn.scatterplot(x=xlabel,y=ylabel,data=df_plt,color='teal')\n",
    "plt.title('m='+str(f'{results1.params[1]:.1e}')+' R='+str(round(np.sqrt(results1.rsquared),2))+' p='+str(f'{results1.pvalues[0]:.1e}'),size=12)\n",
    "plt.xlabel(xlabel)\n",
    "plt.ylabel(ylabel+'_TitleOnly')\n",
    "plt.xscale('log')\n",
    "plt.yscale('log')\n",
    "fname='Panel6_'+xlabel+'_vs_'+ylabel\n",
    "plt.plot(xvals,yvals_predicted,color='grey')\n",
    "plt.savefig(os.path.join(cwd_res,fname+'.png'),bbox_inches='tight')\n",
    "plt.close()"
   ]
  },
  {
   "cell_type": "markdown",
   "metadata": {},
   "source": [
    "### Panel 7 Compare the NIH grants data with that from NIH grants which are probed without filtering for the keyword 'cancer' : This checks for how impactful was the effect of excluding grants on each gene that didn't include the word cancer "
   ]
  },
  {
   "cell_type": "code",
   "execution_count": 38,
   "metadata": {
    "scrolled": true
   },
   "outputs": [
    {
     "name": "stdout",
     "output_type": "stream",
     "text": [
      "['CARS', 'FGFR1OP', 'H3F3A', 'H3F3B', 'HIST1H3B', 'HIST1H4I']\n"
     ]
    }
   ],
   "source": [
    "df_pubs_grants_NoCan=pd.read_excel(os.path.join(cwd_input_matrices,'controls','NIH+PM_Data_no_cancer.xlsx'),index_col='Gene name')\n",
    "\n",
    "print([idx for idx in df_pubs_grants_NoCan.index if idx!=FindGeneName(idx)])\n",
    "\n",
    "df_pubs_grants_NoCan.index=[FindGeneName(idx) for idx in df_pubs_grants_NoCan.index]"
   ]
  },
  {
   "cell_type": "code",
   "execution_count": 39,
   "metadata": {},
   "outputs": [],
   "source": [
    "xlabel='Grants ($)'\n",
    "ylabel='Award Amount[title/abstract]'\n",
    "\n",
    "xdat=df_pubs_grants[xlabel].sort_values(ascending=False)\n",
    "ydat=df_pubs_grants_NoCan[ylabel].loc[xdat.index]\n",
    "\n",
    "fig, ax1 = plt.subplots()\n",
    "df_plt=pd.concat([xdat,ydat],axis='columns')\n",
    "xlabel1=xlabel+'_Cancer'\n",
    "ylabel1=ylabel+'_NoCancer'\n",
    "df_plt.columns=[xlabel1,ylabel1]\n",
    "sbn.scatterplot(ax=ax1,x=xlabel1,y=ylabel1,data=df_plt,color='k')\n",
    "ax1.set_yscale('log')\n",
    "ax1.set_xscale('log')\n",
    "ax1.set_ylim(min(ydat[ydat>0]),max(ydat))\n",
    "\n",
    "overlapindex=[idx for idx in xdat.index if idx in ydat.index]\n",
    "\n",
    "xvals=xdat.loc[overlapindex].values\n",
    "yvals=ydat.loc[overlapindex].values\n",
    "Xinp=sm.add_constant(xvals)\n",
    "Yinp=yvals\n",
    "model1=sm.OLS(Yinp,Xinp)\n",
    "results1=model1.fit()\n",
    "\n",
    "yvals_predicted=results1.predict(Xinp)\n",
    "plt.plot(xvals,yvals_predicted,color='grey')\n",
    "plt.xlabel(xlabel1)\n",
    "plt.ylabel(ylabel1)\n",
    "plt.title('m='+str(f'{results1.params[1]:.1e}')+' R='+str(round(np.sqrt(results1.rsquared),2))+' p='+str(f'{results1.pvalues[0]:.1e}'),size=12)\n",
    "fname='Panel7_NIH_NoCancer_'+xlabel\n",
    "plt.savefig(os.path.join(cwd_res,fname+'.png'),bbox_inches='tight')\n",
    "plt.close()"
   ]
  },
  {
   "cell_type": "code",
   "execution_count": 40,
   "metadata": {},
   "outputs": [],
   "source": [
    "xlabel='Publications (#)'\n",
    "ylabel='Pubs[title]'\n",
    "\n",
    "xdat=df_pubs_grants[xlabel].sort_values(ascending=False)\n",
    "ydat=df_pubs_grants_NoCan[ylabel].loc[xdat.index]\n",
    "\n",
    "fig, ax1 = plt.subplots()\n",
    "df_plt=pd.concat([xdat,ydat],axis='columns')\n",
    "xlabel1=xlabel+'_Cancer'\n",
    "ylabel1=ylabel+'_NoCancer'\n",
    "df_plt.columns=[xlabel1,ylabel1]\n",
    "sbn.scatterplot(ax=ax1,x=xlabel1,y=ylabel1,data=df_plt,color='teal')\n",
    "ax1.set_yscale('log')\n",
    "ax1.set_xscale('log')\n",
    "ax1.set_ylim(min(ydat[ydat>0]),max(ydat))\n",
    "\n",
    "overlapindex=[idx for idx in xdat.index if idx in ydat.index]\n",
    "\n",
    "xvals=xdat.loc[overlapindex].values\n",
    "yvals=ydat.loc[overlapindex].values\n",
    "Xinp=sm.add_constant(xvals)\n",
    "Yinp=yvals\n",
    "model1=sm.OLS(Yinp,Xinp)\n",
    "results1=model1.fit()\n",
    "\n",
    "yvals_predicted=results1.predict(Xinp)\n",
    "plt.plot(xvals,yvals_predicted,color='grey')\n",
    "plt.xlabel(xlabel1)\n",
    "plt.ylabel(ylabel1)\n",
    "plt.title('m='+str(f'{results1.params[1]:.1e}')+' R='+str(round(np.sqrt(results1.rsquared),2))+' p='+str(f'{results1.pvalues[0]:.1e}'),size=12)\n",
    "fname='Panel7_NoCancer_'+xlabel\n",
    "plt.savefig(os.path.join(cwd_res,fname+'.png'),bbox_inches='tight')\n",
    "plt.close()"
   ]
  },
  {
   "cell_type": "markdown",
   "metadata": {},
   "source": [
    "### Panel 7_1 (middle and bottom) Compare the NIH grants data with that from NIH grants which are probed filtering for 121 cancer phrases  : This checks for how impactful was the effect of excluding grants on each gene that didn't included keywords other than cancer "
   ]
  },
  {
   "cell_type": "code",
   "execution_count": 41,
   "metadata": {
    "scrolled": true
   },
   "outputs": [
    {
     "name": "stdout",
     "output_type": "stream",
     "text": [
      "['CARS', 'FGFR1OP', 'H3F3A', 'H3F3B', 'HIST1H3B', 'HIST1H4I']\n"
     ]
    }
   ],
   "source": [
    "df_pubs_grants_AltCan=pd.read_excel(os.path.join(cwd_input_matrices,'controls','NIH+PM_Data_Cancer_synonyms.xlsx'),index_col='Gene name') \n",
    "\n",
    "print([idx for idx in df_pubs_grants_AltCan.index if idx!=FindGeneName(idx)])\n",
    "\n",
    "df_pubs_grants_AltCan.index=[FindGeneName(idx) for idx in df_pubs_grants_AltCan.index]"
   ]
  },
  {
   "cell_type": "code",
   "execution_count": 42,
   "metadata": {
    "scrolled": false
   },
   "outputs": [
    {
     "data": {
      "text/plain": [
       "('NIH (Billion $):',\n",
       " 68.146839966,\n",
       " 'NCI (Billion $):',\n",
       " 69.811955315,\n",
       " 'NIH 121 (Billion $):',\n",
       " 87.583345306)"
      ]
     },
     "execution_count": 42,
     "metadata": {},
     "output_type": "execute_result"
    }
   ],
   "source": [
    "# total funding for different sources\n",
    "'NIH (Billion $):', df_AllData['Grants ($)'].sum()/10**9, 'NCI (Billion $):', df_Pubmed_AACR['Award Amount[title/abstract]'].sum()/10**9,'NIH 121 (Billion $):',  df_pubs_grants_AltCan['Award Amount[title/abstract]'].sum()/10**9"
   ]
  },
  {
   "cell_type": "code",
   "execution_count": 43,
   "metadata": {
    "scrolled": false
   },
   "outputs": [
    {
     "data": {
      "text/plain": [
       "('PubMed (Million):',\n",
       " 0.101239,\n",
       " 'AACR (Million):',\n",
       " 0.012049,\n",
       " 'PubMed 121 (Million):',\n",
       " 0.206583)"
      ]
     },
     "execution_count": 43,
     "metadata": {},
     "output_type": "execute_result"
    }
   ],
   "source": [
    "# total publications for different sources\n",
    "'PubMed (Million):', df_AllData['Publications (#)'].sum()/10**6, 'AACR (Million):', df_Pubmed_AACR['Pubs[title]'].sum()/10**6,'PubMed 121 (Million):',  df_pubs_grants_AltCan['Pubs[title]'].sum()/10**6"
   ]
  },
  {
   "cell_type": "code",
   "execution_count": 44,
   "metadata": {},
   "outputs": [],
   "source": [
    "xlabel='Grants ($)'\n",
    "ylabel='Award Amount[title/abstract]'\n",
    "\n",
    "xdat=df_pubs_grants[xlabel].sort_values(ascending=False)\n",
    "ydat=df_pubs_grants_AltCan[ylabel].loc[xdat.index]\n",
    "\n",
    "fig, ax1 = plt.subplots()\n",
    "df_plt=pd.concat([xdat,ydat],axis='columns')\n",
    "xlabel1=xlabel+'_Cancer'\n",
    "ylabel1=ylabel+'_AltCancer'\n",
    "df_plt.columns=[xlabel1,ylabel1]\n",
    "sbn.scatterplot(ax=ax1,x=xlabel1,y=ylabel1,data=df_plt,color='k')\n",
    "ax1.set_yscale('log')\n",
    "ax1.set_xscale('log')\n",
    "ax1.set_ylim(min(ydat[ydat>0]),max(ydat))\n",
    "\n",
    "overlapindex=[idx for idx in xdat.index if idx in ydat.index]\n",
    "\n",
    "xvals=xdat.loc[overlapindex].values\n",
    "yvals=ydat.loc[overlapindex].values\n",
    "Xinp=sm.add_constant(xvals)\n",
    "Yinp=yvals\n",
    "model1=sm.OLS(Yinp,Xinp)\n",
    "results1=model1.fit()\n",
    "\n",
    "yvals_predicted=results1.predict(Xinp)\n",
    "plt.plot(xvals,yvals_predicted,color='grey')\n",
    "plt.xlabel(xlabel1)\n",
    "plt.ylabel(ylabel1)\n",
    "plt.title('m='+str(f'{results1.params[1]:.1e}')+' R='+str(round(np.sqrt(results1.rsquared),2))+' p='+str(f'{results1.pvalues[0]:.1e}'),size=12)\n",
    "fname='Panel7_1_NIH_AltCancer_'+xlabel\n",
    "plt.savefig(os.path.join(cwd_res,fname+'.png'),bbox_inches='tight')\n",
    "plt.close()\n",
    "# plt.show()"
   ]
  },
  {
   "cell_type": "code",
   "execution_count": 45,
   "metadata": {},
   "outputs": [],
   "source": [
    "xlabel='Publications (#)'\n",
    "ylabel='Pubs[title]'\n",
    "\n",
    "xdat=df_pubs_grants[xlabel].sort_values(ascending=False)\n",
    "ydat=df_pubs_grants_AltCan[ylabel].loc[xdat.index]\n",
    "\n",
    "fig, ax1 = plt.subplots()\n",
    "df_plt=pd.concat([xdat,ydat],axis='columns')\n",
    "xlabel1=xlabel+'_Cancer'\n",
    "ylabel1=ylabel+'_AltCancer'\n",
    "df_plt.columns=[xlabel1,ylabel1]\n",
    "sbn.scatterplot(ax=ax1,x=xlabel1,y=ylabel1,data=df_plt,color='teal')\n",
    "ax1.set_yscale('log')\n",
    "ax1.set_xscale('log')\n",
    "ax1.set_ylim(min(ydat[ydat>0]),max(ydat))\n",
    "\n",
    "overlapindex=[idx for idx in xdat.index if idx in ydat.index]\n",
    "\n",
    "xvals=xdat.loc[overlapindex].values\n",
    "yvals=ydat.loc[overlapindex].values\n",
    "Xinp=sm.add_constant(xvals)\n",
    "Yinp=yvals\n",
    "model1=sm.OLS(Yinp,Xinp)\n",
    "results1=model1.fit()\n",
    "\n",
    "yvals_predicted=results1.predict(Xinp)\n",
    "plt.plot(xvals,yvals_predicted,color='grey')\n",
    "plt.xlabel(xlabel1)\n",
    "plt.ylabel(ylabel1)\n",
    "plt.title('m='+str(f'{results1.params[1]:.1e}')+' R='+str(round(np.sqrt(results1.rsquared),2))+' p='+str(f'{results1.pvalues[0]:.1e}'),size=12)\n",
    "fname='Panel7_1_AltCancer_'+xlabel\n",
    "plt.savefig(os.path.join(cwd_res,fname+'.png'),bbox_inches='tight')\n",
    "plt.close()\n",
    "# plt.show()"
   ]
  },
  {
   "cell_type": "markdown",
   "metadata": {},
   "source": [
    "## Scatter plots"
   ]
  },
  {
   "cell_type": "code",
   "execution_count": 64,
   "metadata": {},
   "outputs": [],
   "source": [
    "#xy corr plot\n",
    "df_pubs_grants_AltCan.rename(columns={'Award Amount[title/abstract]':'Grants ($)','Pubs[title]':'Publications (#)'},inplace=True)\n",
    "ylist=['Grants ($)','Publications (#)']\n",
    "xlabel1='Incidence'\n",
    "col_dic={'Grants (#)':'tab:green','Grants ($)':'k','Publications (#)':'teal','Pubs[tiab]':'tab:brown'}\n",
    "xdat=df_AllData[xlabel1].sort_values(ascending=False)\n",
    "for il in range(len(ylist)):\n",
    "    ylabel1=ylist[il]\n",
    "    ydat=(df_pubs_grants_AltCan[ylabel1].sort_values(ascending=False)).iloc[11:]\n",
    "\n",
    "    overlapindex=[idx for idx in xdat.index if idx in ydat.index]\n",
    "\n",
    "    xvals=xdat.loc[overlapindex].values\n",
    "    yvals=ydat.loc[overlapindex].values\n",
    "    Xinp=sm.add_constant(xvals)\n",
    "    Yinp=yvals\n",
    "    model1=sm.OLS(Yinp,Xinp)\n",
    "    results1=model1.fit()\n",
    "\n",
    "    yvals_predicted=results1.predict(Xinp)\n",
    "    plt.figure(figsize=(5,5))\n",
    "    df_plt=pd.concat([xdat,ydat],axis='columns')\n",
    "    sbn.scatterplot(x=xlabel1,y=ylabel1,data=df_plt,color=col_dic[ylabel1])\n",
    "    plt.title('m='+str(f'{results1.params[1]:.1e}')+' R='+str(round(np.sqrt(results1.rsquared),2))+' p='+str(f'{results1.pvalues[0]:.1e}'),size=12)\n",
    "    plt.xlabel(xlabel1)\n",
    "    plt.xscale('log')\n",
    "    plt.yscale('log')\n",
    "    fname='Panel7_1_AltCancer_' \n",
    "    fname=fname+xlabel1+'_vs_'+ylabel1+'_noTop10'\n",
    "    plt.plot(xvals,yvals_predicted,color='grey')\n",
    "    plt.savefig(os.path.join(cwd_res,fname+'.png'),bbox_inches='tight')\n",
    "    plt.close()\n",
    "#     plt.show()"
   ]
  },
  {
   "cell_type": "markdown",
   "metadata": {},
   "source": [
    "## Repeat panel 7 scatter without filtering for top 10 "
   ]
  },
  {
   "cell_type": "code",
   "execution_count": 65,
   "metadata": {},
   "outputs": [],
   "source": [
    "#xy corr plot\n",
    "df_pubs_grants_AltCan.rename(columns={'Award Amount[title/abstract]':'Grants ($)','Pubs[title]':'Publications (#)'},inplace=True)\n",
    "ylist=['Grants ($)','Publications (#)']\n",
    "xlabel1='Incidence'\n",
    "col_dic={'Grants (#)':'tab:green','Grants ($)':'k','Publications (#)':'teal','Pubs[tiab]':'tab:brown'}\n",
    "xdat=df_AllData[xlabel1].sort_values(ascending=False)\n",
    "for il in range(len(ylist)):\n",
    "    ylabel1=ylist[il]\n",
    "    ydat=(df_pubs_grants_AltCan[ylabel1].sort_values(ascending=False))\n",
    "\n",
    "    overlapindex=[idx for idx in xdat.index if idx in ydat.index]\n",
    "\n",
    "    xvals=xdat.loc[overlapindex].values\n",
    "    yvals=ydat.loc[overlapindex].values\n",
    "    Xinp=sm.add_constant(xvals)\n",
    "    Yinp=yvals\n",
    "    model1=sm.OLS(Yinp,Xinp)\n",
    "    results1=model1.fit()\n",
    "\n",
    "    yvals_predicted=results1.predict(Xinp)\n",
    "    plt.figure(figsize=(5,5))\n",
    "    df_plt=pd.concat([xdat,ydat],axis='columns')\n",
    "    sbn.scatterplot(x=xlabel1,y=ylabel1,data=df_plt,color=col_dic[ylabel1])\n",
    "    plt.title('m='+str(f'{results1.params[1]:.1e}')+' R='+str(round(np.sqrt(results1.rsquared),2))+' p='+str(f'{results1.pvalues[0]:.1e}'),size=12)\n",
    "    plt.xlabel(xlabel1)\n",
    "    plt.xscale('log')\n",
    "    plt.yscale('log')\n",
    "    fname='Panel7_1_AltCancer_' \n",
    "    fname=fname+xlabel1+'_vs_'+ylabel1\n",
    "    plt.plot(xvals,yvals_predicted,color='grey')\n",
    "    fname='Panel7_1_AltCancer_' \n",
    "    fname=fname+xlabel1+'_vs_'+ylabel1\n",
    "    plt.plot(xvals,yvals_predicted,color='grey')\n",
    "    plt.savefig(os.path.join(cwd_res,fname+'.png'),bbox_inches='tight')\n",
    "    plt.close()"
   ]
  },
  {
   "cell_type": "markdown",
   "metadata": {},
   "source": [
    "### Panel 8 Compare the Pubmed and Grants data for Animal studies with the total counts"
   ]
  },
  {
   "cell_type": "code",
   "execution_count": 48,
   "metadata": {},
   "outputs": [],
   "source": [
    "df_Animal=pd.read_excel(os.path.join(cwd_input_matrices,'controls','NIH+PM_Data_animal_keywords.xlsx'),index_col='Gene name')"
   ]
  },
  {
   "cell_type": "code",
   "execution_count": 49,
   "metadata": {},
   "outputs": [
    {
     "name": "stdout",
     "output_type": "stream",
     "text": [
      "['CARS', 'FGFR1OP', 'H3F3A', 'H3F3B', 'HIST1H3B', 'HIST1H4I']\n"
     ]
    }
   ],
   "source": [
    "print([idx for idx in df_Animal.index if idx!=FindGeneName(idx)])"
   ]
  },
  {
   "cell_type": "code",
   "execution_count": 50,
   "metadata": {},
   "outputs": [],
   "source": [
    "df_Animal.index=[FindGeneName(idx) for idx in df_Animal.index]"
   ]
  },
  {
   "cell_type": "code",
   "execution_count": 51,
   "metadata": {
    "scrolled": true
   },
   "outputs": [],
   "source": [
    "xlabel='Publications (#)'\n",
    "ylabel='Pubs[title]'\n",
    "\n",
    "xdat=df_AllData[xlabel].sort_values(ascending=False)\n",
    "ydat=df_Animal[ylabel].loc[xdat.index]\n",
    "\n",
    "fig, ax1 = plt.subplots()\n",
    "df_plt=pd.concat([xdat,ydat],axis='columns')\n",
    "xlabel1=xlabel\n",
    "ylabel1=ylabel+'_Animal'\n",
    "df_plt.columns=[xlabel1,ylabel1]\n",
    "sbn.scatterplot(ax=ax1,x=xlabel1,y=ylabel1,data=df_plt,color=col_dic[xlabel1])\n",
    "ax1.set_yscale('log')\n",
    "ax1.set_xscale('log')\n",
    "ax1.set_ylim(min(ydat[ydat>0]),max(ydat))\n",
    "\n",
    "overlapindex=[idx for idx in xdat.index if idx in ydat.index]\n",
    "\n",
    "xvals=xdat.loc[overlapindex].values\n",
    "yvals=ydat.loc[overlapindex].values\n",
    "Xinp=sm.add_constant(xvals)\n",
    "Yinp=yvals\n",
    "model1=sm.OLS(Yinp,Xinp)\n",
    "results1=model1.fit()\n",
    "\n",
    "yvals_predicted=results1.predict(Xinp)\n",
    "plt.plot(xvals,yvals_predicted,color='grey')\n",
    "\n",
    "plt.title('m='+str(f'{results1.params[1]:.1e}')+' R='+str(round(np.sqrt(results1.rsquared),2))+' p='+str(f'{results1.pvalues[0]:.1e}'),size=12)\n",
    "fname='Panel8_Animal_'+xlabel+'_'+ylabel\n",
    "plt.savefig(os.path.join(cwd_res,fname+'.png'),bbox_inches='tight')\n",
    "plt.close()"
   ]
  },
  {
   "cell_type": "code",
   "execution_count": 52,
   "metadata": {
    "scrolled": true
   },
   "outputs": [],
   "source": [
    "xlabel='Grants ($)'\n",
    "ylabel='Award Amount[title/abstract]'\n",
    "\n",
    "xdat=df_AllData[xlabel].sort_values(ascending=False)\n",
    "ydat=df_Animal[ylabel].loc[xdat.index]\n",
    "\n",
    "fig, ax1 = plt.subplots()\n",
    "df_plt=pd.concat([xdat,ydat],axis='columns')\n",
    "xlabel1=xlabel\n",
    "ylabel1=ylabel+'_Animal'\n",
    "df_plt.columns=[xlabel1,ylabel1]\n",
    "sbn.scatterplot(ax=ax1,x=xlabel1,y=ylabel1,data=df_plt,color='k')\n",
    "ax1.set_yscale('log')\n",
    "ax1.set_xscale('log')\n",
    "ax1.set_ylim(min(ydat[ydat>0]),max(ydat))\n",
    "\n",
    "overlapindex=[idx for idx in xdat.index if idx in ydat.index]\n",
    "\n",
    "xvals=xdat.loc[overlapindex].values\n",
    "yvals=ydat.loc[overlapindex].values\n",
    "Xinp=sm.add_constant(xvals)\n",
    "Yinp=yvals\n",
    "model1=sm.OLS(Yinp,Xinp)\n",
    "results1=model1.fit()\n",
    "\n",
    "yvals_predicted=results1.predict(Xinp)\n",
    "plt.plot(xvals,yvals_predicted,color='grey')\n",
    "\n",
    "plt.title('m='+str(f'{results1.params[1]:.1e}')+' R='+str(round(np.sqrt(results1.rsquared),2))+' p='+str(f'{results1.pvalues[0]:.1e}'),size=12)\n",
    "fname='Panel8_Animal_'+xlabel+'_'+ylabel.split('/')[0]+ylabel.split('/')[1]\n",
    "plt.savefig(os.path.join(cwd_res,fname+'.png'),bbox_inches='tight')\n",
    "plt.close()"
   ]
  },
  {
   "cell_type": "markdown",
   "metadata": {},
   "source": [
    "### Panel 9 Compare the Pubmed and Grants data with and without alias gene names included in searches"
   ]
  },
  {
   "cell_type": "code",
   "execution_count": 53,
   "metadata": {},
   "outputs": [],
   "source": [
    "df_NoSyn=pd.read_excel(os.path.join(cwd_input_matrices,'controls','NIH+PM_Data_no_synonyms.xlsx'),index_col='Gene name')"
   ]
  },
  {
   "cell_type": "code",
   "execution_count": 54,
   "metadata": {},
   "outputs": [
    {
     "name": "stdout",
     "output_type": "stream",
     "text": [
      "['CARS', 'FGFR1OP', 'H3F3A', 'H3F3B', 'HIST1H3B', 'HIST1H4I']\n"
     ]
    }
   ],
   "source": [
    "print([idx for idx in df_NoSyn.index if idx!=FindGeneName(idx)])"
   ]
  },
  {
   "cell_type": "code",
   "execution_count": 55,
   "metadata": {},
   "outputs": [],
   "source": [
    "df_NoSyn.index=[FindGeneName(idx) for idx in df_NoSyn.index]"
   ]
  },
  {
   "cell_type": "raw",
   "metadata": {
    "scrolled": true
   },
   "source": [
    "# Extra figure showing correlation between Publications with and without aliases\n",
    "xlabel='Publications (#)'\n",
    "ylabel='Pubs[title]'\n",
    "\n",
    "xdat=df_AllData[xlabel].sort_values(ascending=False)\n",
    "ydat=df_NoSyn[ylabel].loc[xdat.index]\n",
    "\n",
    "fig, ax1 = plt.subplots()\n",
    "df_plt=pd.concat([xdat,ydat],axis='columns')\n",
    "xlabel1=xlabel\n",
    "ylabel1=ylabel+'_NoSyn'\n",
    "df_plt.columns=[xlabel1,ylabel1]\n",
    "sbn.scatterplot(ax=ax1,x=xlabel1,y=ylabel1,data=df_plt,color=col_dic[xlabel1])\n",
    "ax1.set_yscale('log')\n",
    "ax1.set_xscale('log')\n",
    "ax1.set_ylim(min(ydat[ydat>0]),max(ydat))\n",
    "\n",
    "overlapindex=[idx for idx in xdat.index if idx in ydat.index]\n",
    "\n",
    "xvals=xdat.loc[overlapindex].values\n",
    "yvals=ydat.loc[overlapindex].values\n",
    "Xinp=sm.add_constant(xvals)\n",
    "Yinp=yvals\n",
    "model1=sm.OLS(Yinp,Xinp)\n",
    "results1=model1.fit()\n",
    "\n",
    "yvals_predicted=results1.predict(Xinp)\n",
    "plt.plot(xvals,yvals_predicted,color='grey')\n",
    "\n",
    "plt.title('m='+str(f'{results1.params[1]:.1e}')+' R='+str(round(np.sqrt(results1.rsquared),2))+' p='+str(f'{results1.pvalues[0]:.1e}'),size=12)\n",
    "fname='Panel9_NoSyn_'+xlabel+'_'+ylabel\n",
    "plt.savefig(os.path.join(cwd_res,fname+'.png'),bbox_inches='tight')\n",
    "plt.close()"
   ]
  },
  {
   "cell_type": "raw",
   "metadata": {
    "scrolled": false
   },
   "source": [
    "# Extra figure showing correlation between grant amounts with and without aliases\n",
    "xlabel='Grants ($)'\n",
    "ylabel='Award Amount[title/abstract]'\n",
    "\n",
    "xdat=df_AllData[xlabel].sort_values(ascending=False)\n",
    "ydat=df_NoSyn[ylabel].loc[xdat.index]\n",
    "\n",
    "fig, ax1 = plt.subplots()\n",
    "df_plt=pd.concat([xdat,ydat],axis='columns')\n",
    "xlabel1=xlabel\n",
    "ylabel1=ylabel+'_NoSyn'\n",
    "df_plt.columns=[xlabel1,ylabel1]\n",
    "sbn.scatterplot(ax=ax1,x=xlabel1,y=ylabel1,data=df_plt,color='k')\n",
    "ax1.set_yscale('log')\n",
    "ax1.set_xscale('log')\n",
    "ax1.set_ylim(min(ydat[ydat>0]),max(ydat))\n",
    "\n",
    "overlapindex=[idx for idx in xdat.index if idx in ydat.index]\n",
    "\n",
    "xvals=xdat.loc[overlapindex].values\n",
    "yvals=ydat.loc[overlapindex].values\n",
    "Xinp=sm.add_constant(xvals)\n",
    "Yinp=yvals\n",
    "model1=sm.OLS(Yinp,Xinp)\n",
    "results1=model1.fit()\n",
    "\n",
    "yvals_predicted=results1.predict(Xinp)\n",
    "plt.plot(xvals,yvals_predicted,color='grey')\n",
    "\n",
    "plt.title('m='+str(f'{results1.params[1]:.1e}')+' R='+str(round(np.sqrt(results1.rsquared),2))+' p='+str(f'{results1.pvalues[0]:.1e}'),size=12)\n",
    "fname='Panel9_NoSyn_'+xlabel+'_'+ylabel.split('/')[0]+ylabel.split('/')[1]\n",
    "plt.savefig(os.path.join(cwd_res,fname+'.png'),bbox_inches='tight')\n",
    "plt.close()"
   ]
  },
  {
   "cell_type": "code",
   "execution_count": 56,
   "metadata": {},
   "outputs": [],
   "source": [
    "xlabel='Incidence'\n",
    "ylabel='Award Amount[title/abstract]'\n",
    "\n",
    "xdat=df_AllData[xlabel].sort_values(ascending=False)\n",
    "ydat=df_NoSyn[ylabel].loc[xdat.index]\n",
    "\n",
    "fig, ax1 = plt.subplots()\n",
    "df_plt=pd.concat([xdat,ydat],axis='columns')\n",
    "xlabel1=xlabel\n",
    "ylabel1=ylabel+'_NoSyn'\n",
    "df_plt.columns=[xlabel1,ylabel1]\n",
    "sbn.scatterplot(ax=ax1,x=xlabel1,y=ylabel1,data=df_plt,color='k')\n",
    "ax1.set_yscale('log')\n",
    "ax1.set_xscale('log')\n",
    "ax1.set_ylim(min(ydat[ydat>0]),max(ydat))\n",
    "\n",
    "overlapindex=[idx for idx in xdat.index if idx in ydat.index]\n",
    "\n",
    "xvals=xdat.loc[overlapindex].values\n",
    "yvals=ydat.loc[overlapindex].values\n",
    "Xinp=sm.add_constant(xvals)\n",
    "Yinp=yvals\n",
    "model1=sm.OLS(Yinp,Xinp)\n",
    "results1=model1.fit()\n",
    "\n",
    "yvals_predicted=results1.predict(Xinp)\n",
    "plt.plot(xvals,yvals_predicted,color='grey')\n",
    "\n",
    "plt.title('m='+str(f'{results1.params[1]:.1e}')+' R='+str(round(np.sqrt(results1.rsquared),2))+' p='+str(f'{results1.pvalues[0]:.1e}'),size=12)\n",
    "fname='Panel9_NoSyn_'+xlabel+'_'+ylabel.split('/')[0]+ylabel.split('/')[1]\n",
    "plt.savefig(os.path.join(cwd_res,fname+'.png'),bbox_inches='tight')\n",
    "plt.close()"
   ]
  },
  {
   "cell_type": "code",
   "execution_count": 57,
   "metadata": {},
   "outputs": [],
   "source": [
    "xlabel='Incidence'\n",
    "ylabel='Pubs[title]'\n",
    "\n",
    "xdat=df_AllData[xlabel].sort_values(ascending=False)\n",
    "ydat=df_NoSyn[ylabel].loc[xdat.index]\n",
    "\n",
    "fig, ax1 = plt.subplots()\n",
    "df_plt=pd.concat([xdat,ydat],axis='columns')\n",
    "xlabel1=xlabel\n",
    "ylabel1=ylabel+'_NoSyn'\n",
    "df_plt.columns=[xlabel1,ylabel1]\n",
    "sbn.scatterplot(ax=ax1,x=xlabel1,y=ylabel1,data=df_plt,color='teal')\n",
    "ax1.set_yscale('log')\n",
    "ax1.set_xscale('log')\n",
    "ax1.set_ylim(min(ydat[ydat>0]),max(ydat))\n",
    "\n",
    "overlapindex=[idx for idx in xdat.index if idx in ydat.index]\n",
    "\n",
    "xvals=xdat.loc[overlapindex].values\n",
    "yvals=ydat.loc[overlapindex].values\n",
    "Xinp=sm.add_constant(xvals)\n",
    "Yinp=yvals\n",
    "model1=sm.OLS(Yinp,Xinp)\n",
    "results1=model1.fit()\n",
    "\n",
    "yvals_predicted=results1.predict(Xinp)\n",
    "# plt.plot(xvals,yvals_predicted,color='grey')\n",
    "\n",
    "plt.title('m='+str(f'{results1.params[1]:.1e}')+' R='+str(round(np.sqrt(results1.rsquared),2))+' p='+str(f'{results1.pvalues[0]:.1e}'),size=12)\n",
    "fname='Panel9_NoSyn_'+xlabel+'_'+ylabel\n",
    "plt.savefig(os.path.join(cwd_res,fname+'.png'),bbox_inches='tight')\n",
    "plt.close()"
   ]
  },
  {
   "cell_type": "markdown",
   "metadata": {},
   "source": [
    "### Panel 10 Compare the Pubmed counts with that from Pubmed within US publishers only."
   ]
  },
  {
   "cell_type": "code",
   "execution_count": 58,
   "metadata": {},
   "outputs": [],
   "source": [
    "df_Pubmed_US=pd.read_excel(os.path.join(cwd_input_matrices,'controls','PM_Data_USA.xlsx'),index_col='Gene name')"
   ]
  },
  {
   "cell_type": "code",
   "execution_count": 59,
   "metadata": {},
   "outputs": [
    {
     "name": "stdout",
     "output_type": "stream",
     "text": [
      "['CARS', 'FGFR1OP', 'H3F3A', 'H3F3B', 'HIST1H3B', 'HIST1H4I']\n"
     ]
    }
   ],
   "source": [
    "print([idx for idx in df_Pubmed_US.index if idx!=FindGeneName(idx)])"
   ]
  },
  {
   "cell_type": "code",
   "execution_count": 60,
   "metadata": {},
   "outputs": [],
   "source": [
    "df_Pubmed_US.index=[FindGeneName(idx) for idx in df_Pubmed_US.index]"
   ]
  },
  {
   "cell_type": "code",
   "execution_count": 61,
   "metadata": {
    "scrolled": true
   },
   "outputs": [],
   "source": [
    "xlabel='Publications (#)'\n",
    "ylabel='Pubs[title]'\n",
    "\n",
    "xdat=df_AllData[xlabel].sort_values(ascending=False)\n",
    "ydat=df_Pubmed_US[ylabel].loc[xdat.index]\n",
    "\n",
    "fig, ax1 = plt.subplots()\n",
    "df_plt=pd.concat([xdat,ydat],axis='columns')\n",
    "xlabel1=xlabel\n",
    "ylabel1=ylabel\n",
    "df_plt.columns=[xlabel1,ylabel1]\n",
    "sbn.scatterplot(ax=ax1,x=xlabel1,y=ylabel1,data=df_plt,color=col_dic[xlabel1])\n",
    "ax1.set_yscale('log')\n",
    "ax1.set_xscale('log')\n",
    "ax1.set_ylim(min(ydat[ydat>0]),max(ydat))\n",
    "\n",
    "overlapindex=[idx for idx in xdat.index if idx in ydat.index]\n",
    "\n",
    "xvals=xdat.loc[overlapindex].values\n",
    "yvals=ydat.loc[overlapindex].values\n",
    "Xinp=sm.add_constant(xvals)\n",
    "Yinp=yvals\n",
    "model1=sm.OLS(Yinp,Xinp)\n",
    "results1=model1.fit()\n",
    "\n",
    "yvals_predicted=results1.predict(Xinp)\n",
    "plt.plot(xvals,yvals_predicted,color='grey')\n",
    "\n",
    "plt.title('m='+str(f'{results1.params[1]:.1e}')+' R='+str(round(np.sqrt(results1.rsquared),2))+' p='+str(f'{results1.pvalues[0]:.1e}'),size=12)\n",
    "fname='Panel10_Pubs_US_'+xlabel+'_'+ylabel\n",
    "plt.savefig(os.path.join(cwd_res,fname+'.png'),bbox_inches='tight')\n",
    "plt.close()"
   ]
  },
  {
   "cell_type": "code",
   "execution_count": 62,
   "metadata": {
    "scrolled": true
   },
   "outputs": [],
   "source": [
    "xlabel='Pubs[tiab]'\n",
    "ylabel='Pubs[title/abstract]'\n",
    "\n",
    "xdat=df_AllData[xlabel].sort_values(ascending=False)\n",
    "ydat=df_Pubmed_US[ylabel].loc[xdat.index]\n",
    "\n",
    "fig, ax1 = plt.subplots()\n",
    "df_plt=pd.concat([xdat,ydat],axis='columns')\n",
    "xlabel1=xlabel\n",
    "ylabel1=ylabel\n",
    "df_plt.columns=[xlabel1,ylabel1]\n",
    "sbn.scatterplot(ax=ax1,x=xlabel1,y=ylabel1,data=df_plt,color=col_dic[xlabel])\n",
    "ax1.set_yscale('log')\n",
    "ax1.set_xscale('log')\n",
    "ax1.set_ylim(min(ydat[ydat>0]),max(ydat))\n",
    "\n",
    "overlapindex=[idx for idx in xdat.index if idx in ydat.index]\n",
    "\n",
    "xvals=xdat.loc[overlapindex].values\n",
    "yvals=ydat.loc[overlapindex].values\n",
    "Xinp=sm.add_constant(xvals)\n",
    "Yinp=yvals\n",
    "model1=sm.OLS(Yinp,Xinp)\n",
    "results1=model1.fit()\n",
    "\n",
    "yvals_predicted=results1.predict(Xinp)\n",
    "plt.plot(xvals,yvals_predicted,color='grey')\n",
    "\n",
    "plt.title('m='+str(f'{results1.params[1]:.1e}')+' R='+str(round(np.sqrt(results1.rsquared),2))+' p='+str(f'{results1.pvalues[0]:.1e}'),size=12)\n",
    "fname='Panel10_Pubs_US_'+xlabel+'_'+ylabel.split('/')[0]+ylabel.split('/')[1]\n",
    "plt.savefig(os.path.join(cwd_res,fname+'.png'),bbox_inches='tight')\n",
    "plt.close()"
   ]
  },
  {
   "cell_type": "markdown",
   "metadata": {},
   "source": [
    "## Panel 11: Correlation between Grants (USD) and publications (#)"
   ]
  },
  {
   "cell_type": "code",
   "execution_count": 63,
   "metadata": {},
   "outputs": [],
   "source": [
    "#xy corr plot\n",
    "ylabel1='Grants ($)'\n",
    "xlabel1='Publications (#)'\n",
    "xdat=df_AllData[xlabel1].sort_values(ascending=False)\n",
    "ydat=df_AllData[ylabel1].sort_values(ascending=False)\n",
    "\n",
    "overlapindex=[idx for idx in xdat.index if idx in ydat.index]\n",
    "\n",
    "xvals=xdat.loc[overlapindex].values\n",
    "yvals=ydat.loc[overlapindex].values\n",
    "Xinp=sm.add_constant(xvals)\n",
    "Yinp=yvals\n",
    "model1=sm.OLS(Yinp,Xinp)\n",
    "results1=model1.fit()\n",
    "\n",
    "yvals_predicted=results1.predict(Xinp)\n",
    "\n",
    "fig,ax1=plt.subplots(figsize=(5,5))\n",
    "df_plt=pd.concat([xdat,ydat],axis='columns')\n",
    "sbn.scatterplot(ax=ax1,x=xlabel1,y=ylabel1,data=df_plt,color='tab:blue')\n",
    "plt.title('m='+str(f'{results1.params[1]:.1e}')+' R='+str(round(np.sqrt(results1.rsquared),2))+' p='+str(f'{results1.pvalues[0]:.1e}'),size=12)\n",
    "\n",
    "plt.xlabel(xlabel1)\n",
    "plt.xscale('log')\n",
    "plt.yscale('log')\n",
    "fname='Panel11_'+xlabel1+'_vs_'+ylabel1\n",
    "plt.plot(xvals,yvals_predicted,color='grey')\n",
    "plt.savefig(os.path.join(cwd_res,fname+'.png'),bbox_inches='tight')\n",
    "plt.close()"
   ]
  }
 ],
 "metadata": {
  "kernelspec": {
   "display_name": "Python 3 (ipykernel)",
   "language": "python",
   "name": "python3"
  },
  "language_info": {
   "codemirror_mode": {
    "name": "ipython",
    "version": 3
   },
   "file_extension": ".py",
   "mimetype": "text/x-python",
   "name": "python",
   "nbconvert_exporter": "python",
   "pygments_lexer": "ipython3",
   "version": "3.8.8"
  }
 },
 "nbformat": 4,
 "nbformat_minor": 2
}
